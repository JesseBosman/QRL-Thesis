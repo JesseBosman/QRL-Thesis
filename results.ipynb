{
 "cells": [
  {
   "cell_type": "markdown",
   "metadata": {},
   "source": [
    "# Instructions\n",
    "This is the ipython notebook for creating visual interpretation of the results of the final experiment, which are stored in csv format."
   ]
  },
  {
   "cell_type": "markdown",
   "metadata": {},
   "source": [
    "# import necessary modules"
   ]
  },
  {
   "cell_type": "code",
   "execution_count": 61,
   "metadata": {},
   "outputs": [],
   "source": [
    "import pandas as pd\n",
    "import numpy as np\n",
    "import csv\n",
    "import tools as t\n",
    "import matplotlib.pyplot as plt"
   ]
  },
  {
   "cell_type": "markdown",
   "metadata": {},
   "source": [
    "# Loading necessary data, functions\n",
    "You can optionally first run write to csv to ensure all available data is in the files. Then load the csv with appropriate paths."
   ]
  },
  {
   "cell_type": "markdown",
   "metadata": {},
   "source": [
    "## Data"
   ]
  },
  {
   "cell_type": "code",
   "execution_count": 71,
   "metadata": {},
   "outputs": [
    {
     "name": "stderr",
     "output_type": "stream",
     "text": [
      "0it [00:00, ?it/s]"
     ]
    },
    {
     "name": "stdout",
     "output_type": "stream",
     "text": [
      "Index(['environment', 'type', 'n_inputs', 'n_episodes', 'n_holes',\n",
      "       'n_hidden_layers', 'n_nodes_per_layer', 'learning_rate', 'max_steps',\n",
      "       'batch_size', 'number_of_parameters', 'n_reps', 'n_completed_runs',\n",
      "       'best_performance', 'std_best_performance', 'mean_performance',\n",
      "       'std_mean_performance', 'std_std_performance', 'best_policy',\n",
      "       'best_policy_math_avg', 'n_achieved_best_policy'],\n",
      "      dtype='object')\n"
     ]
    },
    {
     "name": "stderr",
     "output_type": "stream",
     "text": [
      "\n"
     ]
    }
   ],
   "source": [
    "t.write_results_to_csv()\n",
    "csv_path_NN = \"/home/s2025396/data1/resultsQRL/NEW/NN_experiment_data.csv\"\n",
    "csv_path_PQC = \"/home/s2025396/data1/resultsQRL/NEW/PQC_experiment_data.csv\"\n",
    "df_PQC = pd.read_csv(csv_path_PQC)\n",
    "df_NN = pd.read_csv(csv_path_NN)\n",
    "df_NN[[\"best_performance\", \"std_best_performance\", \"mean_performance\", \"std_mean_performance\", \"std_std_performance\", \"best_policy_math_avg\"]] = df_NN[[\"best_performance\", \"std_best_performance\", \"mean_performance\", \"std_mean_performance\", \"std_std_performance\", \"best_policy_math_avg\"]].round(4)\n",
    "df_PQC[[\"best_performance\", \"std_best_performance\", \"mean_performance\", \"std_mean_performance\", \"std_std_performance\", \"best_policy_math_avg\"]] = df_PQC[[\"best_performance\", \"std_best_performance\", \"mean_performance\", \"std_mean_performance\", \"std_std_performance\", \"best_policy_math_avg\"]].round(4)\n",
    "# print(df_PQC[df_PQC[\"n_holes\"]==6])\n",
    "print(df_NN.columns)"
   ]
  },
  {
   "cell_type": "markdown",
   "metadata": {},
   "source": [
    "## Manually inputting optimal policies\n",
    "\n",
    "\n"
   ]
  },
  {
   "cell_type": "code",
   "execution_count": 72,
   "metadata": {},
   "outputs": [
    {
     "data": {
      "text/html": [
       "<div>\n",
       "<style scoped>\n",
       "    .dataframe tbody tr th:only-of-type {\n",
       "        vertical-align: middle;\n",
       "    }\n",
       "\n",
       "    .dataframe tbody tr th {\n",
       "        vertical-align: top;\n",
       "    }\n",
       "\n",
       "    .dataframe thead th {\n",
       "        text-align: right;\n",
       "    }\n",
       "</style>\n",
       "<table border=\"1\" class=\"dataframe\">\n",
       "  <thead>\n",
       "    <tr style=\"text-align: right;\">\n",
       "      <th></th>\n",
       "      <th>environment</th>\n",
       "      <th>n_holes</th>\n",
       "      <th>performance</th>\n",
       "      <th>policy</th>\n",
       "      <th>min_memory</th>\n",
       "    </tr>\n",
       "  </thead>\n",
       "  <tbody>\n",
       "    <tr>\n",
       "      <th>0</th>\n",
       "      <td>fiah</td>\n",
       "      <td>5</td>\n",
       "      <td>2.9309</td>\n",
       "      <td>[1, 1, 3, 3, 1, 1, 3, 3, 1, 1]</td>\n",
       "      <td>2</td>\n",
       "    </tr>\n",
       "    <tr>\n",
       "      <th>1</th>\n",
       "      <td>fiah</td>\n",
       "      <td>6</td>\n",
       "      <td>3.3919</td>\n",
       "      <td>[1, 4, 4, 1, 2, 2, 4, 4, 1, 1]</td>\n",
       "      <td>4</td>\n",
       "    </tr>\n",
       "    <tr>\n",
       "      <th>2</th>\n",
       "      <td>fiah</td>\n",
       "      <td>7</td>\n",
       "      <td>4.0017</td>\n",
       "      <td>[1, 5, 2, 1, 5, 4, 1, 5, 3, 1]</td>\n",
       "      <td>3</td>\n",
       "    </tr>\n",
       "    <tr>\n",
       "      <th>3</th>\n",
       "      <td>fiah</td>\n",
       "      <td>8</td>\n",
       "      <td>4.4937</td>\n",
       "      <td>[6, 6, 3, 1, 1, 3, 6, 6, 3, 1]</td>\n",
       "      <td>2</td>\n",
       "    </tr>\n",
       "    <tr>\n",
       "      <th>4</th>\n",
       "      <td>givens-gx0.79-gy1.57</td>\n",
       "      <td>5</td>\n",
       "      <td>2.8325</td>\n",
       "      <td>[3, 0, 4, 0, 3, 0, 4, 2, 3, 0]</td>\n",
       "      <td>4</td>\n",
       "    </tr>\n",
       "  </tbody>\n",
       "</table>\n",
       "</div>"
      ],
      "text/plain": [
       "            environment  n_holes  performance                          policy  \\\n",
       "0                  fiah        5       2.9309  [1, 1, 3, 3, 1, 1, 3, 3, 1, 1]   \n",
       "1                  fiah        6       3.3919  [1, 4, 4, 1, 2, 2, 4, 4, 1, 1]   \n",
       "2                  fiah        7       4.0017  [1, 5, 2, 1, 5, 4, 1, 5, 3, 1]   \n",
       "3                  fiah        8       4.4937  [6, 6, 3, 1, 1, 3, 6, 6, 3, 1]   \n",
       "4  givens-gx0.79-gy1.57        5       2.8325  [3, 0, 4, 0, 3, 0, 4, 2, 3, 0]   \n",
       "\n",
       "   min_memory  \n",
       "0           2  \n",
       "1           4  \n",
       "2           3  \n",
       "3           2  \n",
       "4           4  "
      ]
     },
     "execution_count": 72,
     "metadata": {},
     "output_type": "execute_result"
    }
   ],
   "source": [
    "columns = [\"environment\",\"n_holes\", \"performance\", \"policy\", \"min_memory\"]\n",
    "data_optimal = [\n",
    "    ['fiah', 5, 2.9309, [1, 1, 3, 3, 1, 1, 3, 3, 1, 1], 2],\n",
    "    ['fiah', 6, 3.3919, [1, 4, 4, 1, 2, 2, 4, 4, 1, 1], 4],\n",
    "    ['fiah', 7, 4.0017, [1, 5, 2, 1, 5, 4, 1, 5, 3, 1], 3],\n",
    "    ['fiah', 8, 4.4937, [6, 6, 3, 1, 1, 3, 6, 6, 3, 1], 2],\n",
    "    ['givens-gx0.79-gy1.57', 5, 2.8325, [3, 0, 4, 0, 3, 0, 4, 2, 3, 0], 4],\n",
    "    ['givens-gx0.79-gy1.57', 6, 3.3444, [0, 3, 5, 4, 4, 4, 0, 5, 3, 3], 3],\n",
    "    ['givens-gx0.79-gy1.57', 7, 3.4164, [5, 0, 6, 6, 2, 2, 2, 6, 4, 1], 3],\n",
    "    ['givens-gx0.79-gy1.57', 8, 3.7856, [1, 5, 0, 6, 6, 2, 7, 4, 2, 2], 2],\n",
    "    ['givens-gx3.14-gy1.57', 5, 3.0000, [3, 3, 1, 1, 0, 0, 0, 0, 0, 0], 2],\n",
    "    ['givens-gx3.14-gy1.57', 6, 3.5000, [5, 3, 3, 1, 1, 0, 0, 0, 0, 0], 2],\n",
    "    ['givens-gx3.14-gy1.57', 7, 4.0000, [5, 5, 3, 3, 1, 1, 0, 0, 0, 0], 2],\n",
    "    ['givens-gx3.14-gy1.57', 8, 4.5000, [7, 5, 5, 3, 3, 1, 1, 0, 0, 0], 2],\n",
    "    ['givens-gy0.79-gx0.79', 5, 2.6472, [2, 1, 3, 3, 0, 3, 4, 0, 2, 2], 2],\n",
    "    ['givens-gy0.79-gx0.79', 6, 2.8326, [1, 5, 2, 5, 0, 5, 0, 5, 3, 1], 4],\n",
    "    ['givens-gy0.79-gx0.79', 7, 3.4658, [3, 5, 2, 5, 2, 5, 2, 1, 3, 5], 5],\n",
    "    ['givens-gy0.79-gx0.79', 8, 3.5036, [4, 7, 4, 1, 7, 2, 7, 1, 7, 3], 3]\n",
    "\n",
    "]\n",
    "\n",
    "df_optimal = pd.DataFrame(data = data_optimal, columns = columns )\n",
    "df_optimal.head()"
   ]
  },
  {
   "cell_type": "markdown",
   "metadata": {},
   "source": [
    "## Load used functions"
   ]
  },
  {
   "cell_type": "code",
   "execution_count": 73,
   "metadata": {},
   "outputs": [],
   "source": [
    "def select_data(df_NN, df_PQC, env_name = None, n_holes= None, lr = None, n_eps = None):\n",
    "    data_NN = df_NN\n",
    "    data_PQC = df_PQC\n",
    "\n",
    "    if env_name is not None:\n",
    "        data_NN = data_NN[data_NN[\"environment\"]== env_name]\n",
    "        data_PQC = data_PQC[data_PQC[\"environment\"]== env_name]\n",
    "    \n",
    "    if n_holes is not None:\n",
    "        data_NN = data_NN[data_NN[\"n_holes\"]== n_holes]\n",
    "        data_PQC = data_PQC[data_PQC[\"n_holes\"]== n_holes]\n",
    "\n",
    "    if lr is not None:\n",
    "        data_NN = data_NN[data_NN[\"learning_rate\"]==lr]\n",
    "        data_PQC = data_PQC[data_PQC[\"learning_rate\"]==lr]\n",
    "\n",
    "    if n_eps is not None:\n",
    "        data_NN = data_NN[data_NN[\"n_episodes\"]==n_eps]\n",
    "        data_PQC = data_PQC[data_PQC[\"n_episodes\"]==n_eps]\n",
    "    \n",
    "    return data_NN, data_PQC\n"
   ]
  },
  {
   "cell_type": "markdown",
   "metadata": {},
   "source": [
    "## Check dataframe for uneven entries"
   ]
  },
  {
   "cell_type": "markdown",
   "metadata": {},
   "source": [
    "### NN"
   ]
  },
  {
   "cell_type": "code",
   "execution_count": 74,
   "metadata": {},
   "outputs": [
    {
     "name": "stdout",
     "output_type": "stream",
     "text": [
      "1152\n",
      "for lr 0.1 and 2500 eps, there are 96 models\n",
      "for lr 0.1 and 11600 eps, there are 96 models\n",
      "for lr 0.1 and 53860 eps, there are 96 models\n",
      "for lr 0.1 and 250000 eps, there are 96 models\n",
      "for lr 0.01 and 2500 eps, there are 96 models\n",
      "for lr 0.01 and 11600 eps, there are 96 models\n",
      "for lr 0.01 and 53860 eps, there are 96 models\n",
      "for lr 0.01 and 250000 eps, there are 96 models\n",
      "for lr 0.001 and 2500 eps, there are 96 models\n",
      "for lr 0.001 and 11600 eps, there are 96 models\n",
      "for lr 0.001 and 53860 eps, there are 96 models\n",
      "for lr 0.001 and 250000 eps, there are 96 models\n"
     ]
    },
    {
     "name": "stderr",
     "output_type": "stream",
     "text": [
      "/home/s2025396/vscode/lib64/python3.6/site-packages/ipykernel_launcher.py:5: UserWarning: Boolean Series key will be reindexed to match DataFrame index.\n",
      "  \"\"\"\n",
      "/home/s2025396/vscode/lib64/python3.6/site-packages/ipykernel_launcher.py:5: UserWarning: Boolean Series key will be reindexed to match DataFrame index.\n",
      "  \"\"\"\n",
      "/home/s2025396/vscode/lib64/python3.6/site-packages/ipykernel_launcher.py:5: UserWarning: Boolean Series key will be reindexed to match DataFrame index.\n",
      "  \"\"\"\n",
      "/home/s2025396/vscode/lib64/python3.6/site-packages/ipykernel_launcher.py:5: UserWarning: Boolean Series key will be reindexed to match DataFrame index.\n",
      "  \"\"\"\n",
      "/home/s2025396/vscode/lib64/python3.6/site-packages/ipykernel_launcher.py:5: UserWarning: Boolean Series key will be reindexed to match DataFrame index.\n",
      "  \"\"\"\n",
      "/home/s2025396/vscode/lib64/python3.6/site-packages/ipykernel_launcher.py:5: UserWarning: Boolean Series key will be reindexed to match DataFrame index.\n",
      "  \"\"\"\n",
      "/home/s2025396/vscode/lib64/python3.6/site-packages/ipykernel_launcher.py:5: UserWarning: Boolean Series key will be reindexed to match DataFrame index.\n",
      "  \"\"\"\n",
      "/home/s2025396/vscode/lib64/python3.6/site-packages/ipykernel_launcher.py:5: UserWarning: Boolean Series key will be reindexed to match DataFrame index.\n",
      "  \"\"\"\n",
      "/home/s2025396/vscode/lib64/python3.6/site-packages/ipykernel_launcher.py:5: UserWarning: Boolean Series key will be reindexed to match DataFrame index.\n",
      "  \"\"\"\n",
      "/home/s2025396/vscode/lib64/python3.6/site-packages/ipykernel_launcher.py:5: UserWarning: Boolean Series key will be reindexed to match DataFrame index.\n",
      "  \"\"\"\n",
      "/home/s2025396/vscode/lib64/python3.6/site-packages/ipykernel_launcher.py:5: UserWarning: Boolean Series key will be reindexed to match DataFrame index.\n",
      "  \"\"\"\n",
      "/home/s2025396/vscode/lib64/python3.6/site-packages/ipykernel_launcher.py:5: UserWarning: Boolean Series key will be reindexed to match DataFrame index.\n",
      "  \"\"\"\n"
     ]
    }
   ],
   "source": [
    "df_NN[df_NN[\"environment\"] == \"fiah\"].head()\n",
    "print(len(df_NN))\n",
    "for lr in [0.1, 0.01, 0.001]:\n",
    "    for n_eps in [2500, 11600, 53860, 250000]:\n",
    "        mask = df_NN[df_NN[\"learning_rate\"]==lr][df_NN[\"n_episodes\"]==n_eps]\n",
    "        print(f\"for lr {lr} and {n_eps} eps, there are {len(mask)} models\")\n",
    "# print((df_NN))\n",
    "# print(len(df_NN[df_NN[\"environment\"]=='fiah']))\n",
    "# print(len(df_NN[df_NN[\"environment\"]=='givens-gx3.14-gy1.57']))\n",
    "# print(len(df_NN[df_NN[\"environment\"]=='givens-gx0.79-gy1.57']))"
   ]
  },
  {
   "cell_type": "markdown",
   "metadata": {},
   "source": [
    "### PQC"
   ]
  },
  {
   "cell_type": "code",
   "execution_count": 75,
   "metadata": {},
   "outputs": [
    {
     "name": "stdout",
     "output_type": "stream",
     "text": [
      "1787\n",
      "for lr 0.1 and 2500 eps, there are 157 models\n",
      "for lr 0.1 and 11600 eps, there are 157 models\n",
      "for lr 0.1 and 53860 eps, there are 156 models\n",
      "for lr 0.1 and 250000 eps, there are 147 models\n",
      "for lr 0.01 and 2500 eps, there are 147 models\n",
      "for lr 0.01 and 11600 eps, there are 147 models\n",
      "for lr 0.01 and 53860 eps, there are 147 models\n",
      "for lr 0.01 and 250000 eps, there are 146 models\n",
      "for lr 0.001 and 2500 eps, there are 145 models\n",
      "for lr 0.001 and 11600 eps, there are 146 models\n",
      "for lr 0.001 and 53860 eps, there are 146 models\n",
      "for lr 0.001 and 250000 eps, there are 146 models\n"
     ]
    },
    {
     "name": "stderr",
     "output_type": "stream",
     "text": [
      "/home/s2025396/vscode/lib64/python3.6/site-packages/ipykernel_launcher.py:5: UserWarning: Boolean Series key will be reindexed to match DataFrame index.\n",
      "  \"\"\"\n",
      "/home/s2025396/vscode/lib64/python3.6/site-packages/ipykernel_launcher.py:5: UserWarning: Boolean Series key will be reindexed to match DataFrame index.\n",
      "  \"\"\"\n",
      "/home/s2025396/vscode/lib64/python3.6/site-packages/ipykernel_launcher.py:5: UserWarning: Boolean Series key will be reindexed to match DataFrame index.\n",
      "  \"\"\"\n",
      "/home/s2025396/vscode/lib64/python3.6/site-packages/ipykernel_launcher.py:5: UserWarning: Boolean Series key will be reindexed to match DataFrame index.\n",
      "  \"\"\"\n",
      "/home/s2025396/vscode/lib64/python3.6/site-packages/ipykernel_launcher.py:5: UserWarning: Boolean Series key will be reindexed to match DataFrame index.\n",
      "  \"\"\"\n",
      "/home/s2025396/vscode/lib64/python3.6/site-packages/ipykernel_launcher.py:5: UserWarning: Boolean Series key will be reindexed to match DataFrame index.\n",
      "  \"\"\"\n",
      "/home/s2025396/vscode/lib64/python3.6/site-packages/ipykernel_launcher.py:5: UserWarning: Boolean Series key will be reindexed to match DataFrame index.\n",
      "  \"\"\"\n",
      "/home/s2025396/vscode/lib64/python3.6/site-packages/ipykernel_launcher.py:5: UserWarning: Boolean Series key will be reindexed to match DataFrame index.\n",
      "  \"\"\"\n",
      "/home/s2025396/vscode/lib64/python3.6/site-packages/ipykernel_launcher.py:5: UserWarning: Boolean Series key will be reindexed to match DataFrame index.\n",
      "  \"\"\"\n",
      "/home/s2025396/vscode/lib64/python3.6/site-packages/ipykernel_launcher.py:5: UserWarning: Boolean Series key will be reindexed to match DataFrame index.\n",
      "  \"\"\"\n",
      "/home/s2025396/vscode/lib64/python3.6/site-packages/ipykernel_launcher.py:5: UserWarning: Boolean Series key will be reindexed to match DataFrame index.\n",
      "  \"\"\"\n",
      "/home/s2025396/vscode/lib64/python3.6/site-packages/ipykernel_launcher.py:5: UserWarning: Boolean Series key will be reindexed to match DataFrame index.\n",
      "  \"\"\"\n"
     ]
    }
   ],
   "source": [
    "df_PQC.head()\n",
    "print(len(df_PQC[\"max_steps\"]))\n",
    "for lr in [0.1, 0.01, 0.001]:\n",
    "    for n_eps in [2500, 11600, 53860, 250000]:\n",
    "        mask = df_PQC[df_PQC[\"learning_rate\"]==lr][df_PQC[\"n_episodes\"]==n_eps]\n",
    "        print(f\"for lr {lr} and {n_eps} eps, there are {len(mask)} models\")"
   ]
  },
  {
   "cell_type": "markdown",
   "metadata": {},
   "source": [
    "### selection of accidental double runs"
   ]
  },
  {
   "cell_type": "code",
   "execution_count": 76,
   "metadata": {},
   "outputs": [],
   "source": [
    "# mask = df_PQC[df_PQC[\"learning_rate\"]==0.01][df_PQC[\"n_episodes\"]==11600][df_PQC[\"environment\"]==\"fiah\"][df_PQC[\"n_layers\"]==5]\n",
    "# print(mask)\n",
    "# # a = np.random.choice([77,163])\n",
    "# # print(a)\n",
    "# # df_PQC.drop(index = a, inplace= True)\n"
   ]
  },
  {
   "cell_type": "markdown",
   "metadata": {},
   "source": [
    "# Data Analysis"
   ]
  },
  {
   "cell_type": "markdown",
   "metadata": {},
   "source": [
    "## Performance as function of amount of parameters"
   ]
  },
  {
   "cell_type": "code",
   "execution_count": 77,
   "metadata": {},
   "outputs": [
    {
     "name": "stderr",
     "output_type": "stream",
     "text": [
      "/home/s2025396/vscode/lib64/python3.6/site-packages/ipykernel_launcher.py:67: UserWarning: Boolean Series key will be reindexed to match DataFrame index.\n"
     ]
    },
    {
     "data": {
      "image/png": "[encoded data removed]",
      "text/plain": [
       "<Figure size 432x288 with 1 Axes>"
      ]
     },
     "metadata": {
      "needs_background": "light"
     },
     "output_type": "display_data"
    },
    {
     "data": {
      "image/png": "[encoded data removed]",
      "text/plain": [
       "<Figure size 432x288 with 1 Axes>"
      ]
     },
     "metadata": {
      "needs_background": "light"
     },
     "output_type": "display_data"
    }
   ],
   "source": [
    "def plot_best_performance_and_mean_per_params(df_NN, df_PQC, env_name, n_holes, lr = None, n_eps = None, optimal_performance = None):\n",
    "\n",
    "    data_NN, data_PQC = select_data(df_NN, df_PQC, env_name, n_holes, lr, n_eps)\n",
    "\n",
    "    avg_best_performances_NN = []\n",
    "    avg_mean_performances_NN = []\n",
    "\n",
    "    avg_best_performances_PQC = []\n",
    "    avg_mean_performances_PQC = []\n",
    "\n",
    "    different_parameter_counts_NN = np.unique(data_NN[\"number_of_parameters\"])\n",
    "    different_parameter_counts_PQC = np.unique(data_PQC[\"number_of_parameters\"])\n",
    "\n",
    "\n",
    "    for n_params in different_parameter_counts_NN:\n",
    "        data = data_NN[data_NN[\"number_of_parameters\"]==n_params]\n",
    "        # print(data[\"best_policy_math_avg\"])\n",
    "        avg_best_performance = np.mean(data[\"best_policy_math_avg\"])\n",
    "        avg_best_performances_NN.append(avg_best_performance)\n",
    "\n",
    "        avg_mean_performance = np.mean(data[\"mean_performance\"])\n",
    "        avg_mean_performances_NN.append(avg_mean_performance)\n",
    "\n",
    "    for n_params in different_parameter_counts_PQC:\n",
    "        data = data_PQC[data_PQC[\"number_of_parameters\"]==n_params]\n",
    "        avg_best_performance = np.mean(data[\"best_policy_math_avg\"])\n",
    "        avg_best_performances_PQC.append(avg_best_performance)\n",
    "\n",
    "        avg_mean_performance = np.mean(data[\"mean_performance\"])\n",
    "        avg_mean_performances_PQC.append(avg_mean_performance)\n",
    "\n",
    "    plt.scatter(different_parameter_counts_NN, avg_best_performances_NN, marker= \"x\", color = \"r\", label = \"NN\")\n",
    "    plt.scatter(different_parameter_counts_PQC, avg_best_performances_PQC, marker= \"o\", color = \"b\", label = \"PQC\")\n",
    "\n",
    "    if optimal_performance is not None:\n",
    "        plt.axhline(y = optimal_performance, linestyle = \"dashed\", color = 'g', label = \"optimal\")\n",
    "\n",
    "    plt.xlabel(\"Amount of parameters\")\n",
    "    plt.ylabel(\"N steps\")\n",
    "    plt.title(f\"Optimal policy performance in {env_name} {n_holes} holes as \\n a function of the parameter count for lr {lr} and {n_eps} episodes\")\n",
    "    plt.legend()\n",
    "    plt.show()\n",
    "\n",
    "    plt.scatter(different_parameter_counts_NN, avg_mean_performances_NN, marker= \"x\", color = \"r\", label = \"NN\")\n",
    "    plt.scatter(different_parameter_counts_PQC, avg_mean_performances_PQC, marker= \"o\", color = \"b\", label = \"PQC\")\n",
    "\n",
    "    if optimal_performance is not None:\n",
    "        plt.axhline(y = optimal_performance, linestyle = \"dashed\", color = 'g', label = \"optimal\")\n",
    "\n",
    "    plt.xlabel(\"Amount of parameters\")\n",
    "    plt.ylabel(\"N steps\")\n",
    "    plt.title(f\"Average policy performance in {env_name} {n_holes} holes as \\n a function of the parameter count for lr {lr} and {n_eps} episodes\")\n",
    "    plt.legend()\n",
    "    plt.show()\n",
    "\n",
    "    pass\n",
    "\n",
    "# eerste resultaten:\n",
    "\n",
    "# set 1\n",
    "env_name = \"givens-gy0.79-gx0.79\"\n",
    "lr = 0.01\n",
    "n_eps = 250000\n",
    "n_holes = 8\n",
    "\n",
    "\n",
    "plot_best_performance_and_mean_per_params(df_NN, df_PQC, env_name, n_holes, lr, n_eps, optimal_performance= df_optimal[df_optimal[\"environment\"]==env_name][df_optimal[\"n_holes\"]==n_holes][\"performance\"].values[0])"
   ]
  },
  {
   "cell_type": "markdown",
   "metadata": {},
   "source": [
    "## Performance distribution"
   ]
  },
  {
   "cell_type": "code",
   "execution_count": 78,
   "metadata": {},
   "outputs": [
    {
     "data": {
      "image/png": "[encoded data removed]",
      "text/plain": [
       "<Figure size 432x288 with 1 Axes>"
      ]
     },
     "metadata": {
      "needs_background": "light"
     },
     "output_type": "display_data"
    },
    {
     "data": {
      "image/png": "[encoded data removed]",
      "text/plain": [
       "<Figure size 432x288 with 1 Axes>"
      ]
     },
     "metadata": {
      "needs_background": "light"
     },
     "output_type": "display_data"
    }
   ],
   "source": [
    "def performance_distribution(df_NN, df_PQC, env_name= None, n_holes= None, lr = None, n_eps = None, bins = 100, optimal_performance = None):\n",
    "\n",
    "    data_NN, data_PQC = select_data(df_NN, df_PQC, env_name, n_holes, lr, n_eps)\n",
    "\n",
    "    best_policy_math_avg_NN = data_NN[\"best_policy_math_avg\"]\n",
    "    best_policy_math_avg_PQC = data_PQC[\"best_policy_math_avg\"]\n",
    "    plt.hist([best_policy_math_avg_NN, best_policy_math_avg_PQC], bins = bins, density= True, label= [\"NN\", \"PQC\"])\n",
    "    plt.title(f\"Performance distribution of the best policy in {env_name} {n_holes} holes \\n for lr {lr} and {n_eps} episodes\")\n",
    "    # if optimal_performance is not None:\n",
    "    #     plt.xticks(list(range(10))+ [optimal_performance])\n",
    "\n",
    "    plt.legend()\n",
    "    plt.show()\n",
    "\n",
    "    mean_performances_NN = data_NN[\"mean_performance\"]\n",
    "    mean_performances_PQC = data_PQC[\"mean_performance\"]\n",
    "\n",
    "    # if optimal_performance is not None:\n",
    "    #     plt.xticks([optimal_performance], [\"optimal\"])\n",
    "\n",
    "    plt.hist([mean_performances_NN, mean_performances_PQC], bins = bins, density= True, label= [\"NN\", \"PQC\"])\n",
    "    plt.title(f\"Performance distribution of the mean performance in {env_name} {n_holes} holes \\n for lr {lr} and {n_eps} episodes\")\n",
    "    plt.legend()\n",
    "    plt.show()\n",
    "    # avg_hist_NN = data_NN.hist(column = \"mean_performance\", bins= bins)\n",
    "    # avg_hist_PQC = data_PQC.hist(column = \"mean_performance\", bins= bins)\n",
    "\n",
    "    pass\n",
    "\n",
    "env_name = 'fiah'\n",
    "n_holes = 5\n",
    "lr = 0.001\n",
    "n_eps = 250000\n",
    "\n",
    "performance_distribution(df_NN, df_PQC, env_name, n_holes, lr, n_eps, bins = 20)"
   ]
  },
  {
   "cell_type": "markdown",
   "metadata": {},
   "source": [
    "## Convergence ratio"
   ]
  },
  {
   "cell_type": "code",
   "execution_count": 82,
   "metadata": {},
   "outputs": [
    {
     "name": "stdout",
     "output_type": "stream",
     "text": [
      "The ratio of models where at least 1 of the runs achieved the optimal policy was:\n",
      " NNs: 0.0, PQCs: 1.0.\n",
      "The total convergence ratios are:\n",
      " NNs: 0.0, PQCs: 0.49.\n"
     ]
    },
    {
     "name": "stderr",
     "output_type": "stream",
     "text": [
      "/home/s2025396/vscode/lib64/python3.6/site-packages/ipykernel_launcher.py:32: UserWarning: Boolean Series key will be reindexed to match DataFrame index.\n",
      "/home/s2025396/vscode/lib64/python3.6/site-packages/ipykernel_launcher.py:34: UserWarning: Boolean Series key will be reindexed to match DataFrame index.\n"
     ]
    }
   ],
   "source": [
    "def convergence_ratios(df_NN, df_PQC, env_name, n_holes, lr = None, n_eps = None, optimal_performance= None):\n",
    "    data_NN, data_PQC = select_data(df_NN, df_PQC, env_name, n_holes, lr, n_eps)\n",
    "    n_entries_NN = len(data_NN)\n",
    "    n_entries_PQC = len(data_PQC)\n",
    "\n",
    "    converged_NNs = data_NN[data_NN[\"best_policy_math_avg\"]==optimal_performance]\n",
    "    converged_PQCs = data_PQC[data_PQC[\"best_policy_math_avg\"]==optimal_performance]\n",
    "\n",
    "    ratio_at_leat_1_converged_NN = len(converged_NNs)/n_entries_NN\n",
    "    ratio_at_leat_1_converged_PQC = len(converged_PQCs)/n_entries_PQC\n",
    "\n",
    "    # \"n_achieved_best_policy\" is out of 10, so for full ratio need to take this into account\n",
    "    total_models_converged_NN = np.sum(converged_NNs[\"n_achieved_best_policy\"])\n",
    "    total_models_converged_PQC = np.sum(converged_PQCs[\"n_achieved_best_policy\"])\n",
    "\n",
    "    convergence_ratio_NNs = total_models_converged_NN/(n_entries_NN*10)\n",
    "    convergence_ratio_PQCs = total_models_converged_PQC/(n_entries_PQC*10)\n",
    "\n",
    "    print(\"The ratio of models where at least 1 of the runs achieved the optimal policy was:\\n NNs: {}, PQCs: {}.\".format(\n",
    "        ratio_at_leat_1_converged_NN, ratio_at_leat_1_converged_PQC\n",
    "    ))\n",
    "    print(\"The total convergence ratios are:\\n NNs: {}, PQCs: {}.\".format(\n",
    "        convergence_ratio_NNs, convergence_ratio_PQCs\n",
    "    ))\n",
    "\n",
    "    pass\n",
    "\n",
    "env_name = 'fiah'\n",
    "n_holes = 5\n",
    "lr = 0.1\n",
    "n_eps = 250000\n",
    "optimal_performance = df_optimal[df_optimal[\"environment\"]==env_name][df_optimal[\"n_holes\"]==n_holes][\"performance\"].values[0]\n",
    "\n",
    "convergence_ratios(df_NN, df_PQC, env_name, n_holes, lr, n_eps, df_optimal[df_optimal[\"environment\"]==env_name][df_optimal[\"n_holes\"]==n_holes][\"performance\"].values[0])\n"
   ]
  },
  {
   "cell_type": "markdown",
   "metadata": {},
   "source": [
    "## Training instability\n",
    "Analysing the ratio of runs that return nans\n"
   ]
  },
  {
   "cell_type": "code",
   "execution_count": 88,
   "metadata": {},
   "outputs": [
    {
     "data": {
      "image/png": "[encoded data removed]",
      "text/plain": [
       "<Figure size 432x288 with 1 Axes>"
      ]
     },
     "metadata": {
      "needs_background": "light"
     },
     "output_type": "display_data"
    },
    {
     "name": "stdout",
     "output_type": "stream",
     "text": [
      "The ratio of completed runs for fiah 5 holes with lr 0.1 neps 2500 was: \n",
      " NN: 0.6833333333333333, PQC: 1.0.\n"
     ]
    }
   ],
   "source": [
    "def completed_runs(df_NN, df_PQC, env_name=None, n_holes=None, lr = None, n_eps = None, bins = 100, plot_hist= True):\n",
    "    data_NN, data_PQC = select_data(df_NN, df_PQC, env_name, n_holes, lr, n_eps)\n",
    "\n",
    "    n_completed_runs_NN = data_NN[\"n_completed_runs\"].fillna(0)\n",
    "    n_completed_runs_PQC  = data_PQC[\"n_completed_runs\"].fillna(0)\n",
    "\n",
    "    if plot_hist:\n",
    "        plt.hist([n_completed_runs_NN, n_completed_runs_PQC], bins = bins, density= True, label= [\"NN\", \"PQC\"])\n",
    "        plt.title(f\"Distribution for the amount of completed runs in {env_name} {n_holes} holes \\n for lr {lr} and {n_eps} episodes\")\n",
    "        plt.legend()\n",
    "        plt.show()\n",
    "    \n",
    "    \n",
    "    print(\"The ratio of completed runs for {} {} holes with lr {} neps {} was: \\n NN: {}, PQC: {}.\".format(\n",
    "        env_name, n_holes, lr, n_eps, (np.sum(n_completed_runs_NN)/(len(n_completed_runs_NN)*10)), \n",
    "        (np.sum(n_completed_runs_PQC)/(len(n_completed_runs_PQC)*10))\n",
    "    ))\n",
    "\n",
    "env_name = 'fiah'\n",
    "n_holes = 5\n",
    "lr = 0.1\n",
    "n_eps = 250000\n",
    "completed_runs(df_NN, df_PQC, \"fiah\", 5, 0.1, 2500, 20)"
   ]
  },
  {
   "cell_type": "markdown",
   "metadata": {},
   "source": [
    "## Create table from results\n"
   ]
  },
  {
   "cell_type": "code",
   "execution_count": 105,
   "metadata": {},
   "outputs": [
    {
     "name": "stdout",
     "output_type": "stream",
     "text": [
      "            environment  n holes type  n parameters  n episodes  \\\n",
      "0                  fiah        5  PQC            20        2500   \n",
      "1                  fiah        8   NN            64      250000   \n",
      "2  givens-gx0.79-gy1.57        5  PQC            40      250000   \n",
      "3  givens-gx0.79-gy1.57        8   NN           138      250000   \n",
      "4  givens-gx3.14-gy1.57        5  PQC            20        2500   \n",
      "5  givens-gx3.14-gy1.57        8   NN            36       53860   \n",
      "6  givens-gy0.79-gx0.79        5   NN            89       11600   \n",
      "7  givens-gy0.79-gx0.79        8  PQC            29      250000   \n",
      "\n",
      "   learning rate  performance                 policy  \n",
      "0          0.100       2.9309  [1 1 3 3 1 1 3 3 1 1]  \n",
      "1          0.001       4.4937  [6 6 3 1 1 3 6 6 3 1]  \n",
      "2          0.001       2.8353  [3 0 4 0 3 0 4 0 3 0]  \n",
      "3          0.001       3.9565  [3 0 1 6 6 1 1 6 6 1]  \n",
      "4          0.100       3.0000  [0 4 4 2 2 2 2 2 2 2]  \n",
      "5          0.010       4.5000  [6 6 2 2 0 4 4 7 7 0]  \n",
      "6          0.001       2.7635  [3 1 3 4 4 1 4 4 4 1]  \n",
      "7          0.010       3.9619  [0 7 0 7 0 7 0 7 0 7]  \n"
     ]
    },
    {
     "name": "stderr",
     "output_type": "stream",
     "text": [
      "/home/s2025396/vscode/lib64/python3.6/site-packages/ipykernel_launcher.py:15: UserWarning: Boolean Series key will be reindexed to match DataFrame index.\n",
      "  from ipykernel import kernelapp as app\n",
      "/home/s2025396/vscode/lib64/python3.6/site-packages/ipykernel_launcher.py:15: UserWarning: Boolean Series key will be reindexed to match DataFrame index.\n",
      "  from ipykernel import kernelapp as app\n",
      "/home/s2025396/vscode/lib64/python3.6/site-packages/ipykernel_launcher.py:15: UserWarning: Boolean Series key will be reindexed to match DataFrame index.\n",
      "  from ipykernel import kernelapp as app\n",
      "/home/s2025396/vscode/lib64/python3.6/site-packages/ipykernel_launcher.py:15: UserWarning: Boolean Series key will be reindexed to match DataFrame index.\n",
      "  from ipykernel import kernelapp as app\n",
      "/home/s2025396/vscode/lib64/python3.6/site-packages/ipykernel_launcher.py:15: UserWarning: Boolean Series key will be reindexed to match DataFrame index.\n",
      "  from ipykernel import kernelapp as app\n",
      "/home/s2025396/vscode/lib64/python3.6/site-packages/ipykernel_launcher.py:15: UserWarning: Boolean Series key will be reindexed to match DataFrame index.\n",
      "  from ipykernel import kernelapp as app\n",
      "/home/s2025396/vscode/lib64/python3.6/site-packages/ipykernel_launcher.py:15: UserWarning: Boolean Series key will be reindexed to match DataFrame index.\n",
      "  from ipykernel import kernelapp as app\n",
      "/home/s2025396/vscode/lib64/python3.6/site-packages/ipykernel_launcher.py:15: UserWarning: Boolean Series key will be reindexed to match DataFrame index.\n",
      "  from ipykernel import kernelapp as app\n"
     ]
    }
   ],
   "source": [
    "def write_best_to_table(df_NN, df_PQC, env_name=None, n_holes=None, print_latex = False):\n",
    "    data_NN, data_PQC = select_data(df_NN, df_PQC, env_name, n_holes)\n",
    "\n",
    "    all_data = pd.concat([data_NN, data_PQC], ignore_index= True, sort= False)\n",
    "\n",
    "    env_names = np.unique(data_NN[\"environment\"])\n",
    "    hole_nrs = np.unique(data_NN[\"n_holes\"])\n",
    "\n",
    "\n",
    "    table_data = []\n",
    "\n",
    "    for env in env_names:\n",
    "        for hole_nr in hole_nrs:\n",
    "\n",
    "            relevant_data = all_data[all_data[\"environment\"]==env][all_data[\"n_holes\"]==hole_nr]\n",
    "            best_performance = np.nanmin(relevant_data['best_policy_math_avg'])\n",
    "            relevant_data = relevant_data[relevant_data[\"best_policy_math_avg\"]==best_performance]\n",
    "            min_params = np.min(relevant_data['number_of_parameters'])\n",
    "            relevant_data = relevant_data[relevant_data['number_of_parameters']==min_params]\n",
    "            min_eps = np.min(relevant_data['n_episodes'])\n",
    "            relevant_data = relevant_data[relevant_data['n_episodes']==min_eps]\n",
    "            # print(relevant_data)\n",
    "            min_lr_arg = np.argmin(relevant_data['learning_rate'])\n",
    "            # print(min_lr_arg)\n",
    "            relevant_data = relevant_data.iloc[min_lr_arg]\n",
    "            min_lr = relevant_data['learning_rate']\n",
    "            type = relevant_data['type']\n",
    "            policy = relevant_data['best_policy']\n",
    "            row = [env, hole_nr, type, min_params, min_eps, min_lr, best_performance, policy]\n",
    "            table_data.append(row)\n",
    "\n",
    "    \n",
    "    results= pd.DataFrame(data = table_data, columns = ['environment', 'n holes', 'type', 'n parameters', 'n episodes', 'learning rate', 'performance', 'policy'])\n",
    "    with pd.option_context('display.max_rows', None, 'display.max_columns', None):\n",
    "        print(results)\n",
    "\n",
    "    if print_latex:\n",
    "        results.style.to_latex()\n",
    "    \n",
    "    pass\n",
    "\n",
    "def write_specific_to_table(df_NN, df_PQC, env_name=None, n_holes=None, lr = None, n_episodes = None, print_latex = False):\n",
    "    data_NN, data_PQC = select_data(df_NN, df_PQC, env_name, n_holes)\n",
    "\n",
    "    all_data = pd.concat([data_NN, data_PQC], ignore_index= True, sort= False)\n",
    "\n",
    "    env_names = np.unique(data_NN[\"environment\"])\n",
    "    hole_nrs = np.unique(data_NN[\"n_holes\"])\n",
    "\n",
    "\n",
    "    table_data = []\n",
    "\n",
    "    for env in env_names:\n",
    "        for hole_nr in hole_nrs:\n",
    "\n",
    "            relevant_data = all_data[all_data[\"environment\"]==env][all_data[\"n_holes\"]==hole_nr]\n",
    "            best_performance = np.nanmin(relevant_data['best_policy_math_avg'])\n",
    "            relevant_data = relevant_data[relevant_data[\"best_policy_math_avg\"]==best_performance]\n",
    "            min_params = np.min(relevant_data['number_of_parameters'])\n",
    "            relevant_data = relevant_data[relevant_data['number_of_parameters']==min_params]\n",
    "            min_eps = np.min(relevant_data['n_episodes'])\n",
    "            relevant_data = relevant_data[relevant_data['n_episodes']==min_eps]\n",
    "            # print(relevant_data)\n",
    "            min_lr_arg = np.argmin(relevant_data['learning_rate'])\n",
    "            # print(min_lr_arg)\n",
    "            relevant_data = relevant_data.iloc[min_lr_arg]\n",
    "            min_lr = relevant_data['learning_rate']\n",
    "            type = relevant_data['type']\n",
    "            policy = relevant_data['best_policy']\n",
    "            row = [env, hole_nr, type, min_params, min_eps, min_lr, best_performance, policy]\n",
    "            table_data.append(row)\n",
    "\n",
    "    \n",
    "    results= pd.DataFrame(data = table_data, columns = ['environment', 'n holes', 'type', 'n parameters', 'n episodes', 'learning rate', 'performance', 'policy'])\n",
    "    with pd.option_context('display.max_rows', None, 'display.max_columns', None):\n",
    "        print(results)\n",
    "    \n",
    "    if print_latex:\n",
    "        results.style.to_latex()\n",
    "\n",
    "    pass\n",
    "\n",
    "write_best_to_table(df_NN, df_PQC, print_latex= False)"
   ]
  },
  {
   "cell_type": "markdown",
   "metadata": {},
   "source": []
  },
  {
   "cell_type": "markdown",
   "metadata": {},
   "source": [
    "## Writing back to CSV\n",
    "Use the correct file path with index = False"
   ]
  },
  {
   "cell_type": "code",
   "execution_count": 20,
   "metadata": {},
   "outputs": [],
   "source": [
    "# df_PQC.to_csv(path_or_buf= csv_path_PQC, index = False)"
   ]
  },
  {
   "cell_type": "code",
   "execution_count": null,
   "metadata": {},
   "outputs": [],
   "source": []
  }
 ],
 "metadata": {
  "kernelspec": {
   "display_name": "tfqenv3",
   "language": "python",
   "name": "python3"
  },
  "language_info": {
   "codemirror_mode": {
    "name": "ipython",
    "version": 3
   },
   "file_extension": ".py",
   "mimetype": "text/x-python",
   "name": "python",
   "nbconvert_exporter": "python",
   "pygments_lexer": "ipython3",
   "version": "3.6.8"
  }
 },
 "nbformat": 4,
 "nbformat_minor": 2
}
