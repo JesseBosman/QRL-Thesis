{
 "cells": [
  {
   "cell_type": "markdown",
   "metadata": {},
   "source": [
    "# Instructions\n",
    "This is the ipython notebook for creating visual interpretation of the results of the final experiment, which are stored in csv format."
   ]
  },
  {
   "cell_type": "markdown",
   "metadata": {},
   "source": [
    "# import necessary modules"
   ]
  },
  {
   "cell_type": "code",
   "execution_count": 2,
   "metadata": {},
   "outputs": [],
   "source": [
    "import pandas as pd\n",
    "import numpy as np\n",
    "import csv\n",
    "import tools as t\n",
    "import matplotlib.pyplot as plt"
   ]
  },
  {
   "cell_type": "markdown",
   "metadata": {},
   "source": [
    "# Loading necessary data, functions\n",
    "You can optionally first run write to csv to ensure all available data is in the files. Then load the csv with appropriate paths."
   ]
  },
  {
   "cell_type": "markdown",
   "metadata": {},
   "source": [
    "## Data"
   ]
  },
  {
   "cell_type": "code",
   "execution_count": 3,
   "metadata": {},
   "outputs": [
    {
     "name": "stdout",
     "output_type": "stream",
     "text": [
      "There are 2304 NN models and 1920 PQC models\n",
      "Index(['environment', 'type', 'n_inputs', 'n_episodes', 'n_holes',\n",
      "       'n_hidden_layers', 'n_nodes_per_layer', 'learning_rate', 'max_steps',\n",
      "       'batch_size', 'number_of_parameters', 'n_reps', 'n_completed_runs',\n",
      "       'best_performance', 'std_best_performance', 'mean_performance',\n",
      "       'std_mean_performance', 'std_std_performance', 'best_policy',\n",
      "       'best_policy_math_avg', 'n_achieved_best_policy'],\n",
      "      dtype='object')\n"
     ]
    }
   ],
   "source": [
    "# t.write_results_to_csv()\n",
    "csv_path_NN = r\"C:\\Users\\thebo\\Desktop\\resultsQRL\\NN_experiment_data.csv\"\n",
    "csv_path_PQC = r\"C:\\Users\\thebo\\Desktop\\resultsQRL\\PQC_experiment_data.csv\"\t\n",
    "df_PQC = pd.read_csv(csv_path_PQC)\n",
    "df_NN = pd.read_csv(csv_path_NN)\n",
    "df_NN[[\"best_performance\", \"std_best_performance\", \"mean_performance\", \"std_mean_performance\", \"std_std_performance\", \"best_policy_math_avg\"]] = df_NN[[\"best_performance\", \"std_best_performance\", \"mean_performance\", \"std_mean_performance\", \"std_std_performance\", \"best_policy_math_avg\"]].round(4)\n",
    "df_PQC[[\"best_performance\", \"std_best_performance\", \"mean_performance\", \"std_mean_performance\", \"std_std_performance\", \"best_policy_math_avg\"]] = df_PQC[[\"best_performance\", \"std_best_performance\", \"mean_performance\", \"std_mean_performance\", \"std_std_performance\", \"best_policy_math_avg\"]].round(4)\n",
    "# print(df_PQC[df_PQC[\"n_holes\"]==6])\n",
    "\n",
    "print(\"There are {} NN models and {} PQC models\".format(len(df_NN), len(df_PQC)))\n",
    "print(df_NN.columns)"
   ]
  },
  {
   "cell_type": "markdown",
   "metadata": {},
   "source": [
    "## Manually inputting optimal policies\n",
    "\n",
    "\n"
   ]
  },
  {
   "cell_type": "code",
   "execution_count": 6,
   "metadata": {},
   "outputs": [
    {
     "name": "stdout",
     "output_type": "stream",
     "text": [
      "\\begin{tabular}{lrrlr}\n",
      "environment & random & performance & policy & min_memory \\\\\n",
      "fiah & 4.570500 & 2.930900 & [1 1 3 3 1 1 3 3 1 1] & 2 \\\\\n",
      "givens-gx0.79-gy1.57 & 4.570500 & 2.832500 & [3 0 4 0 3 0 4 2 3 0] & 4 \\\\\n",
      "givens-gx3.14-gy1.57 & 4.570500 & 3.000000 & [3 3 1 1 0 0 0 0 0 0] & 2 \\\\\n",
      "givens-gy0.79-gx0.79 & 4.570500 & 2.647200 & [2 1 3 3 0 3 4 0 2 2] & 2 \\\\\n",
      "\\end{tabular}\n",
      "\n",
      "\\begin{tabular}{lrrlr}\n",
      "environment & random & performance & policy & min_memory \\\\\n",
      "fiah & 5.192500 & 3.391900 & [1 4 4 1 2 2 4 4 1 1] & 4 \\\\\n",
      "givens-gx0.79-gy1.57 & 5.192500 & 3.344400 & [0 3 5 4 4 4 0 5 3 3] & 3 \\\\\n",
      "givens-gx3.14-gy1.57 & 5.192500 & 3.500000 & [5 3 3 1 1 0 0 0 0 0] & 2 \\\\\n",
      "givens-gy0.79-gx0.79 & 5.192500 & 2.832600 & [1 5 2 5 0 5 0 5 3 1] & 4 \\\\\n",
      "\\end{tabular}\n",
      "\n",
      "\\begin{tabular}{lrrlr}\n",
      "environment & random & performance & policy & min_memory \\\\\n",
      "fiah & 5.715700 & 4.001700 & [1 5 2 1 5 4 1 5 3 1] & 3 \\\\\n",
      "givens-gx0.79-gy1.57 & 5.715700 & 3.416400 & [5 0 6 6 2 2 2 6 4 1] & 3 \\\\\n",
      "givens-gx3.14-gy1.57 & 5.715700 & 4.000000 & [5 5 3 3 1 1 0 0 0 0] & 2 \\\\\n",
      "givens-gy0.79-gx0.79 & 5.715700 & 3.465800 & [3 5 2 5 2 5 2 1 3 5] & 5 \\\\\n",
      "\\end{tabular}\n",
      "\n",
      "\\begin{tabular}{lrrlr}\n",
      "environment & random & performance & policy & min_memory \\\\\n",
      "fiah & 6.158500 & 4.493700 & [6 6 3 1 1 3 6 6 3 1] & 2 \\\\\n",
      "givens-gx0.79-gy1.57 & 6.158500 & 3.785600 & [1 5 0 6 6 2 7 4 2 2] & 2 \\\\\n",
      "givens-gx3.14-gy1.57 & 6.158500 & 4.500000 & [7 5 5 3 3 1 1 0 0 0] & 2 \\\\\n",
      "givens-gy0.79-gx0.79 & 6.158500 & 3.503600 & [4 7 4 1 7 2 7 1 7 3] & 3 \\\\\n",
      "\\end{tabular}\n",
      "\n",
      "None\n"
     ]
    }
   ],
   "source": [
    "columns = [\"environment\",\"n_holes\",\"random\",\"performance\", \"policy\", \"min_memory\"]\n",
    "data_optimal = [\n",
    "    ['fiah', 5, 4.5705, 2.9309, \"[1 1 3 3 1 1 3 3 1 1]\", 2],\n",
    "    ['fiah', 6, 5.1925, 3.3919, \"[1 4 4 1 2 2 4 4 1 1]\", 4],\n",
    "    ['fiah', 7, 5.7157, 4.0017, \"[1 5 2 1 5 4 1 5 3 1]\", 3],\n",
    "    ['fiah', 8, 6.1585, 4.4937, \"[6 6 3 1 1 3 6 6 3 1]\", 2],\n",
    "    ['givens-gx0.79-gy1.57', 5, 4.5705, 2.8325, \"[3 0 4 0 3 0 4 2 3 0]\", 4],\n",
    "    ['givens-gx0.79-gy1.57', 6, 5.1925, 3.3444, \"[0 3 5 4 4 4 0 5 3 3]\", 3],\n",
    "    ['givens-gx0.79-gy1.57', 7, 5.7157, 3.4164, \"[5 0 6 6 2 2 2 6 4 1]\", 3],\n",
    "    ['givens-gx0.79-gy1.57', 8, 6.1585, 3.7856, \"[1 5 0 6 6 2 7 4 2 2]\", 2],\n",
    "    ['givens-gx3.14-gy1.57', 5, 4.5705, 3.0000, \"[3 3 1 1 0 0 0 0 0 0]\", 2],\n",
    "    ['givens-gx3.14-gy1.57', 6, 5.1925, 3.5000, \"[5 3 3 1 1 0 0 0 0 0]\", 2],\n",
    "    ['givens-gx3.14-gy1.57', 7, 5.7157, 4.0000, \"[5 5 3 3 1 1 0 0 0 0]\", 2],\n",
    "    ['givens-gx3.14-gy1.57', 8, 6.1585, 4.5000, \"[7 5 5 3 3 1 1 0 0 0]\", 2],\n",
    "    ['givens-gy0.79-gx0.79', 5, 4.5705, 2.6472, \"[2 1 3 3 0 3 4 0 2 2]\", 2],\n",
    "    ['givens-gy0.79-gx0.79', 6, 5.1925, 2.8326, \"[1 5 2 5 0 5 0 5 3 1]\", 4],\n",
    "    ['givens-gy0.79-gx0.79', 7, 5.7157, 3.4658, \"[3 5 2 5 2 5 2 1 3 5]\", 5],\n",
    "    ['givens-gy0.79-gx0.79', 8, 6.1585, 3.5036, \"[4 7 4 1 7 2 7 1 7 3]\", 3]\n",
    "\n",
    "]\n",
    "\n",
    "df_optimal = pd.DataFrame(data = data_optimal, columns = columns )\n",
    "style = df_optimal.style\n",
    "\n",
    "\n",
    "hole_5= df_optimal[df_optimal[\"n_holes\"]==5]\n",
    "hole_6= df_optimal[df_optimal[\"n_holes\"]==6]\n",
    "hole_7= df_optimal[df_optimal[\"n_holes\"]==7]\n",
    "hole_8= df_optimal[df_optimal[\"n_holes\"]==8]\n",
    "\n",
    "data = [hole_5, hole_6, hole_7, hole_8]\n",
    "\n",
    "for d in data:\n",
    "    d= d.drop('n_holes', axis=1)\n",
    "    style = d.style\n",
    "    style.hide()\n",
    "    print(style.to_latex())\n",
    "\n",
    "print(t.random_policy_result_classical('fiah', 5, 10))\n",
    "\n",
    "\n"
   ]
  },
  {
   "cell_type": "markdown",
   "metadata": {},
   "source": [
    "# Create normalized dataframes\n",
    "\n"
   ]
  },
  {
   "cell_type": "code",
   "execution_count": 45,
   "metadata": {},
   "outputs": [],
   "source": [
    "df_PQC_normed = df_PQC.copy(deep = True)\n",
    "df_NN_normed = df_NN.copy(deep = True)\n",
    "envs = np.unique(df_PQC[\"environment\"])\n",
    "for n in [5,6,7,8]:\n",
    "    random = df_optimal[df_optimal[\"n_holes\"]==n][\"random\"].values[0]\n",
    "    for env in envs:\n",
    "\n",
    "        optimal = df_optimal[(df_optimal[\"n_holes\"]==n) & (df_optimal[\"environment\"]==env)][\"performance\"].values[0]\n",
    "        df_PQC_normed.loc[(df_PQC_normed[\"n_holes\"]==n) & (df_PQC_normed[\"environment\"]==env),[\"best_performance\", \"std_best_performance\", \"mean_performance\", \"std_mean_performance\", \"std_std_performance\", \"best_policy_math_avg\"]] = (df_PQC_normed[(df_PQC_normed[\"n_holes\"]==n) & (df_PQC_normed[\"environment\"]==env)][[\"best_performance\", \"std_best_performance\", \"mean_performance\", \"std_mean_performance\", \"std_std_performance\", \"best_policy_math_avg\"]].values- optimal)/(random-optimal)\n",
    "        df_NN_normed.loc[(df_NN_normed[\"n_holes\"]==n) &(df_NN_normed[\"environment\"]==env),[\"best_performance\", \"std_best_performance\", \"mean_performance\", \"std_mean_performance\", \"std_std_performance\", \"best_policy_math_avg\"]] = (df_NN_normed[(df_NN_normed[\"n_holes\"]==n) & (df_NN_normed[\"environment\"]==env)][[\"best_performance\", \"std_best_performance\", \"mean_performance\", \"std_mean_performance\", \"std_std_performance\", \"best_policy_math_avg\"]].values- optimal)/(random-optimal)\n",
    "\n"
   ]
  },
  {
   "cell_type": "code",
   "execution_count": 38,
   "metadata": {},
   "outputs": [
    {
     "name": "stdout",
     "output_type": "stream",
     "text": [
      "4.390625000000001\n"
     ]
    }
   ],
   "source": [
    "guesses = [3, 1, 3, 4, 4, 1, 4, 4, 4, 1]\n",
    "from bruteforce_policy import run_guesses_fiah\n",
    "from tools import retrieve_transfer_matrices\n",
    "transfer_matrices = retrieve_transfer_matrices('fiah', 5)\n",
    "print(run_guesses_fiah(np.ones(5)/5, transfer_matrices, guesses, 10))"
   ]
  },
  {
   "cell_type": "markdown",
   "metadata": {},
   "source": [
    "## Load used functions"
   ]
  },
  {
   "cell_type": "code",
   "execution_count": 13,
   "metadata": {},
   "outputs": [],
   "source": [
    "def select_data(df_NN, df_PQC, env_name = None, n_holes= None, lr = None, n_eps = None):\n",
    "    data_NN = df_NN\n",
    "    data_PQC = df_PQC\n",
    "\n",
    "    if env_name is not None:\n",
    "        data_NN = data_NN[data_NN[\"environment\"]== env_name]\n",
    "        data_PQC = data_PQC[data_PQC[\"environment\"]== env_name]\n",
    "    \n",
    "    if n_holes is not None:\n",
    "        data_NN = data_NN[data_NN[\"n_holes\"]== n_holes]\n",
    "        data_PQC = data_PQC[data_PQC[\"n_holes\"]== n_holes]\n",
    "\n",
    "    if lr is not None:\n",
    "        data_NN = data_NN[data_NN[\"learning_rate\"]==lr]\n",
    "        data_PQC = data_PQC[data_PQC[\"learning_rate\"]==lr]\n",
    "\n",
    "    if n_eps is not None:\n",
    "        data_NN = data_NN[data_NN[\"n_episodes\"]==n_eps]\n",
    "        data_PQC = data_PQC[data_PQC[\"n_episodes\"]==n_eps]\n",
    "    \n",
    "    return data_NN, data_PQC\n",
    "\n"
   ]
  },
  {
   "cell_type": "markdown",
   "metadata": {},
   "source": [
    "## Check dataframe for uneven entries"
   ]
  },
  {
   "cell_type": "markdown",
   "metadata": {},
   "source": [
    "### NN"
   ]
  },
  {
   "cell_type": "code",
   "execution_count": 14,
   "metadata": {},
   "outputs": [
    {
     "name": "stdout",
     "output_type": "stream",
     "text": [
      "2304\n",
      "for lr 0.1 and 2500 eps, there are 192 models\n",
      "for lr 0.1 and 11600 eps, there are 192 models\n",
      "for lr 0.1 and 53860 eps, there are 192 models\n",
      "for lr 0.1 and 250000 eps, there are 192 models\n",
      "for lr 0.01 and 2500 eps, there are 192 models\n",
      "for lr 0.01 and 11600 eps, there are 192 models\n",
      "for lr 0.01 and 53860 eps, there are 192 models\n",
      "for lr 0.01 and 250000 eps, there are 192 models\n",
      "for lr 0.001 and 2500 eps, there are 192 models\n",
      "for lr 0.001 and 11600 eps, there are 192 models\n",
      "for lr 0.001 and 53860 eps, there are 192 models\n",
      "for lr 0.001 and 250000 eps, there are 192 models\n"
     ]
    },
    {
     "name": "stderr",
     "output_type": "stream",
     "text": [
      "C:\\Users\\thebo\\AppData\\Local\\Temp\\ipykernel_19064\\4228296093.py:5: UserWarning: Boolean Series key will be reindexed to match DataFrame index.\n",
      "  mask = df_NN[df_NN[\"learning_rate\"]==lr][df_NN[\"n_episodes\"]==n_eps]\n",
      "C:\\Users\\thebo\\AppData\\Local\\Temp\\ipykernel_19064\\4228296093.py:5: UserWarning: Boolean Series key will be reindexed to match DataFrame index.\n",
      "  mask = df_NN[df_NN[\"learning_rate\"]==lr][df_NN[\"n_episodes\"]==n_eps]\n",
      "C:\\Users\\thebo\\AppData\\Local\\Temp\\ipykernel_19064\\4228296093.py:5: UserWarning: Boolean Series key will be reindexed to match DataFrame index.\n",
      "  mask = df_NN[df_NN[\"learning_rate\"]==lr][df_NN[\"n_episodes\"]==n_eps]\n",
      "C:\\Users\\thebo\\AppData\\Local\\Temp\\ipykernel_19064\\4228296093.py:5: UserWarning: Boolean Series key will be reindexed to match DataFrame index.\n",
      "  mask = df_NN[df_NN[\"learning_rate\"]==lr][df_NN[\"n_episodes\"]==n_eps]\n",
      "C:\\Users\\thebo\\AppData\\Local\\Temp\\ipykernel_19064\\4228296093.py:5: UserWarning: Boolean Series key will be reindexed to match DataFrame index.\n",
      "  mask = df_NN[df_NN[\"learning_rate\"]==lr][df_NN[\"n_episodes\"]==n_eps]\n",
      "C:\\Users\\thebo\\AppData\\Local\\Temp\\ipykernel_19064\\4228296093.py:5: UserWarning: Boolean Series key will be reindexed to match DataFrame index.\n",
      "  mask = df_NN[df_NN[\"learning_rate\"]==lr][df_NN[\"n_episodes\"]==n_eps]\n",
      "C:\\Users\\thebo\\AppData\\Local\\Temp\\ipykernel_19064\\4228296093.py:5: UserWarning: Boolean Series key will be reindexed to match DataFrame index.\n",
      "  mask = df_NN[df_NN[\"learning_rate\"]==lr][df_NN[\"n_episodes\"]==n_eps]\n",
      "C:\\Users\\thebo\\AppData\\Local\\Temp\\ipykernel_19064\\4228296093.py:5: UserWarning: Boolean Series key will be reindexed to match DataFrame index.\n",
      "  mask = df_NN[df_NN[\"learning_rate\"]==lr][df_NN[\"n_episodes\"]==n_eps]\n",
      "C:\\Users\\thebo\\AppData\\Local\\Temp\\ipykernel_19064\\4228296093.py:5: UserWarning: Boolean Series key will be reindexed to match DataFrame index.\n",
      "  mask = df_NN[df_NN[\"learning_rate\"]==lr][df_NN[\"n_episodes\"]==n_eps]\n",
      "C:\\Users\\thebo\\AppData\\Local\\Temp\\ipykernel_19064\\4228296093.py:5: UserWarning: Boolean Series key will be reindexed to match DataFrame index.\n",
      "  mask = df_NN[df_NN[\"learning_rate\"]==lr][df_NN[\"n_episodes\"]==n_eps]\n",
      "C:\\Users\\thebo\\AppData\\Local\\Temp\\ipykernel_19064\\4228296093.py:5: UserWarning: Boolean Series key will be reindexed to match DataFrame index.\n",
      "  mask = df_NN[df_NN[\"learning_rate\"]==lr][df_NN[\"n_episodes\"]==n_eps]\n",
      "C:\\Users\\thebo\\AppData\\Local\\Temp\\ipykernel_19064\\4228296093.py:5: UserWarning: Boolean Series key will be reindexed to match DataFrame index.\n",
      "  mask = df_NN[df_NN[\"learning_rate\"]==lr][df_NN[\"n_episodes\"]==n_eps]\n"
     ]
    }
   ],
   "source": [
    "df_NN[df_NN[\"environment\"] == \"fiah\"].head()\n",
    "print(len(df_NN))\n",
    "for lr in [0.1, 0.01, 0.001]:\n",
    "    for n_eps in [2500, 11600, 53860, 250000]:\n",
    "        mask = df_NN[df_NN[\"learning_rate\"]==lr][df_NN[\"n_episodes\"]==n_eps]\n",
    "        print(f\"for lr {lr} and {n_eps} eps, there are {len(mask)} models\")\n",
    "# print((df_NN))\n",
    "# print(len(df_NN[df_NN[\"environment\"]=='fiah']))\n",
    "# print(len(df_NN[df_NN[\"environment\"]=='givens-gx3.14-gy1.57']))\n",
    "# print(len(df_NN[df_NN[\"environment\"]=='givens-gx0.79-gy1.57']))\n",
    "# missing = df_NN[df_NN[\"learning_rate\"]==0.1][df_NN[\"n_episodes\"]==2500][df_NN[\"environment\"]=='givens-gx3.14-gy1.57'][df_NN[\"n_holes\"]==6]\n",
    "\n",
    "# print(missing)\n",
    "\n",
    "# missing: 1 hidden layer 3 nodes"
   ]
  },
  {
   "cell_type": "markdown",
   "metadata": {},
   "source": [
    "### PQC"
   ]
  },
  {
   "cell_type": "code",
   "execution_count": 15,
   "metadata": {},
   "outputs": [
    {
     "name": "stdout",
     "output_type": "stream",
     "text": [
      "1920\n",
      "for lr 0.1 and 2500 eps, there are 160 models\n",
      "for lr 0.1 and 11600 eps, there are 160 models\n",
      "for lr 0.1 and 53860 eps, there are 160 models\n",
      "for lr 0.1 and 250000 eps, there are 160 models\n",
      "for lr 0.01 and 2500 eps, there are 160 models\n",
      "for lr 0.01 and 11600 eps, there are 160 models\n",
      "for lr 0.01 and 53860 eps, there are 160 models\n",
      "for lr 0.01 and 250000 eps, there are 160 models\n",
      "for lr 0.001 and 2500 eps, there are 160 models\n",
      "for lr 0.001 and 11600 eps, there are 160 models\n",
      "for lr 0.001 and 53860 eps, there are 160 models\n",
      "for lr 0.001 and 250000 eps, there are 160 models\n"
     ]
    },
    {
     "name": "stderr",
     "output_type": "stream",
     "text": [
      "C:\\Users\\thebo\\AppData\\Local\\Temp\\ipykernel_19064\\483398333.py:5: UserWarning: Boolean Series key will be reindexed to match DataFrame index.\n",
      "  mask = df_PQC[df_PQC[\"learning_rate\"]==lr][df_PQC[\"n_episodes\"]==n_eps]\n",
      "C:\\Users\\thebo\\AppData\\Local\\Temp\\ipykernel_19064\\483398333.py:5: UserWarning: Boolean Series key will be reindexed to match DataFrame index.\n",
      "  mask = df_PQC[df_PQC[\"learning_rate\"]==lr][df_PQC[\"n_episodes\"]==n_eps]\n",
      "C:\\Users\\thebo\\AppData\\Local\\Temp\\ipykernel_19064\\483398333.py:5: UserWarning: Boolean Series key will be reindexed to match DataFrame index.\n",
      "  mask = df_PQC[df_PQC[\"learning_rate\"]==lr][df_PQC[\"n_episodes\"]==n_eps]\n",
      "C:\\Users\\thebo\\AppData\\Local\\Temp\\ipykernel_19064\\483398333.py:5: UserWarning: Boolean Series key will be reindexed to match DataFrame index.\n",
      "  mask = df_PQC[df_PQC[\"learning_rate\"]==lr][df_PQC[\"n_episodes\"]==n_eps]\n",
      "C:\\Users\\thebo\\AppData\\Local\\Temp\\ipykernel_19064\\483398333.py:5: UserWarning: Boolean Series key will be reindexed to match DataFrame index.\n",
      "  mask = df_PQC[df_PQC[\"learning_rate\"]==lr][df_PQC[\"n_episodes\"]==n_eps]\n",
      "C:\\Users\\thebo\\AppData\\Local\\Temp\\ipykernel_19064\\483398333.py:5: UserWarning: Boolean Series key will be reindexed to match DataFrame index.\n",
      "  mask = df_PQC[df_PQC[\"learning_rate\"]==lr][df_PQC[\"n_episodes\"]==n_eps]\n",
      "C:\\Users\\thebo\\AppData\\Local\\Temp\\ipykernel_19064\\483398333.py:5: UserWarning: Boolean Series key will be reindexed to match DataFrame index.\n",
      "  mask = df_PQC[df_PQC[\"learning_rate\"]==lr][df_PQC[\"n_episodes\"]==n_eps]\n",
      "C:\\Users\\thebo\\AppData\\Local\\Temp\\ipykernel_19064\\483398333.py:5: UserWarning: Boolean Series key will be reindexed to match DataFrame index.\n",
      "  mask = df_PQC[df_PQC[\"learning_rate\"]==lr][df_PQC[\"n_episodes\"]==n_eps]\n",
      "C:\\Users\\thebo\\AppData\\Local\\Temp\\ipykernel_19064\\483398333.py:5: UserWarning: Boolean Series key will be reindexed to match DataFrame index.\n",
      "  mask = df_PQC[df_PQC[\"learning_rate\"]==lr][df_PQC[\"n_episodes\"]==n_eps]\n",
      "C:\\Users\\thebo\\AppData\\Local\\Temp\\ipykernel_19064\\483398333.py:5: UserWarning: Boolean Series key will be reindexed to match DataFrame index.\n",
      "  mask = df_PQC[df_PQC[\"learning_rate\"]==lr][df_PQC[\"n_episodes\"]==n_eps]\n",
      "C:\\Users\\thebo\\AppData\\Local\\Temp\\ipykernel_19064\\483398333.py:5: UserWarning: Boolean Series key will be reindexed to match DataFrame index.\n",
      "  mask = df_PQC[df_PQC[\"learning_rate\"]==lr][df_PQC[\"n_episodes\"]==n_eps]\n",
      "C:\\Users\\thebo\\AppData\\Local\\Temp\\ipykernel_19064\\483398333.py:5: UserWarning: Boolean Series key will be reindexed to match DataFrame index.\n",
      "  mask = df_PQC[df_PQC[\"learning_rate\"]==lr][df_PQC[\"n_episodes\"]==n_eps]\n"
     ]
    }
   ],
   "source": [
    "df_PQC.head()\n",
    "print(len(df_PQC[\"max_steps\"]))\n",
    "for lr in [0.1, 0.01, 0.001]:\n",
    "    for n_eps in [2500, 11600, 53860, 250000]:\n",
    "        mask = df_PQC[df_PQC[\"learning_rate\"]==lr][df_PQC[\"n_episodes\"]==n_eps]\n",
    "        print(f\"for lr {lr} and {n_eps} eps, there are {len(mask)} models\")\n",
    "\n",
    "# missing = df_PQC[df_PQC[\"learning_rate\"]==0.001][df_PQC[\"n_episodes\"]==2500][df_PQC[\"environment\"]=='fiah'][df_PQC[\"n_holes\"]==6]\n",
    "\n",
    "# print(missing)\n",
    "\n",
    "# missing: 9 layers"
   ]
  },
  {
   "cell_type": "markdown",
   "metadata": {},
   "source": [
    "### selection of accidental double runs"
   ]
  },
  {
   "cell_type": "code",
   "execution_count": 10,
   "metadata": {},
   "outputs": [],
   "source": [
    "# mask = df_PQC[df_PQC[\"learning_rate\"]==0.01][df_PQC[\"n_episodes\"]==11600][df_PQC[\"environment\"]==\"fiah\"][df_PQC[\"n_layers\"]==5]\n",
    "# print(mask)\n",
    "# # a = np.random.choice([77,163])\n",
    "# # print(a)\n",
    "# # df_PQC.drop(index = a, inplace= True)\n"
   ]
  },
  {
   "cell_type": "markdown",
   "metadata": {},
   "source": [
    "# Data Analysis"
   ]
  },
  {
   "cell_type": "markdown",
   "metadata": {},
   "source": [
    "## Performance as function of amount of parameters"
   ]
  },
  {
   "cell_type": "code",
   "execution_count": 49,
   "metadata": {},
   "outputs": [
    {
     "data": {
      "image/png": "[encoded data removed]",
      "text/plain": [
       "<Figure size 640x480 with 1 Axes>"
      ]
     },
     "metadata": {},
     "output_type": "display_data"
    },
    {
     "data": {
      "image/png": "[encoded data removed]",
      "text/plain": [
       "<Figure size 640x480 with 1 Axes>"
      ]
     },
     "metadata": {},
     "output_type": "display_data"
    }
   ],
   "source": [
    "def plot_best_performance_and_mean_per_params(df_NN, df_PQC, env_name, n_holes, lr = None, n_eps = None, optimal_performance = None, normalize = True):\n",
    "\n",
    "    data_NN, data_PQC = select_data(df_NN, df_PQC, env_name, n_holes, lr, n_eps)\n",
    "\n",
    "    avg_best_performances_NN = []\n",
    "    avg_mean_performances_NN = []\n",
    "\n",
    "    avg_best_performances_PQC = []\n",
    "    avg_mean_performances_PQC = []\n",
    "\n",
    "    different_parameter_counts_NN = np.unique(data_NN[\"number_of_parameters\"])\n",
    "    different_parameter_counts_PQC = np.unique(data_PQC[\"number_of_parameters\"])\n",
    "\n",
    "\n",
    "    for n_params in different_parameter_counts_NN:\n",
    "        data = data_NN[data_NN[\"number_of_parameters\"]==n_params]\n",
    "        # print(data[\"best_policy_math_avg\"])\n",
    "        avg_best_performance = np.mean(data[\"best_policy_math_avg\"])\n",
    "        avg_best_performances_NN.append(avg_best_performance)\n",
    "\n",
    "        avg_mean_performance = np.mean(data[\"mean_performance\"])\n",
    "        avg_mean_performances_NN.append(avg_mean_performance)\n",
    "\n",
    "    for n_params in different_parameter_counts_PQC:\n",
    "        data = data_PQC[data_PQC[\"number_of_parameters\"]==n_params]\n",
    "        avg_best_performance = np.mean(data[\"best_policy_math_avg\"])\n",
    "        avg_best_performances_PQC.append(avg_best_performance)\n",
    "\n",
    "        avg_mean_performance = np.mean(data[\"mean_performance\"])\n",
    "        avg_mean_performances_PQC.append(avg_mean_performance)\n",
    "\n",
    "    plt.scatter(different_parameter_counts_NN, avg_best_performances_NN, marker= \"x\", color = \"r\", label = \"NN\")\n",
    "    plt.scatter(different_parameter_counts_PQC, avg_best_performances_PQC, marker= \"o\", color = \"b\", label = \"PQC\")\n",
    "\n",
    "    if optimal_performance is not None:\n",
    "        plt.axhline(y = optimal_performance, linestyle = \"dashed\", color = 'g', label = \"optimal\")\n",
    "\n",
    "    plt.xlabel(\"Amount of parameters\")\n",
    "    plt.ylabel(\"N steps\")\n",
    "    plt.title(f\"Optimal policy performance in {env_name} {n_holes} holes as \\n a function of the parameter count for lr {lr} and {n_eps} episodes\")\n",
    "    plt.legend()\n",
    "    plt.show()\n",
    "\n",
    "    plt.scatter(different_parameter_counts_NN, avg_mean_performances_NN, marker= \"x\", color = \"r\", label = \"NN\")\n",
    "    plt.scatter(different_parameter_counts_PQC, avg_mean_performances_PQC, marker= \"o\", color = \"b\", label = \"PQC\")\n",
    "\n",
    "    if optimal_performance is not None:\n",
    "        plt.axhline(y = optimal_performance, linestyle = \"dashed\", color = 'g', label = \"optimal\")\n",
    "\n",
    "    plt.xlabel(\"Amount of parameters\")\n",
    "    plt.ylabel(\"N steps\")\n",
    "    plt.title(f\"Average policy performance in {env_name} {n_holes} holes as \\n a function of the parameter count for lr {lr} and {n_eps} episodes\")\n",
    "    plt.legend()\n",
    "    plt.show()\n",
    "\n",
    "    pass\n",
    "\n",
    "# eerste resultaten:\n",
    "\n",
    "# set 1\n",
    "env_name = None\n",
    "lr = 0.001\n",
    "n_eps = None\n",
    "n_holes = 8\n",
    "\n",
    "\n",
    "plot_best_performance_and_mean_per_params(df_NN_normed, df_PQC_normed, env_name, n_holes, lr, n_eps, optimal_performance= None)"
   ]
  },
  {
   "cell_type": "markdown",
   "metadata": {},
   "source": [
    "## Performance distribution"
   ]
  },
  {
   "cell_type": "code",
   "execution_count": 78,
   "metadata": {},
   "outputs": [
    {
     "data": {
      "image/png": "[encoded data removed]",
      "text/plain": [
       "<Figure size 432x288 with 1 Axes>"
      ]
     },
     "metadata": {
      "needs_background": "light"
     },
     "output_type": "display_data"
    },
    {
     "data": {
      "image/png": "[encoded data removed]",
      "text/plain": [
       "<Figure size 432x288 with 1 Axes>"
      ]
     },
     "metadata": {
      "needs_background": "light"
     },
     "output_type": "display_data"
    }
   ],
   "source": [
    "def performance_distribution(df_NN, df_PQC, env_name= None, n_holes= None, lr = None, n_eps = None, bins = 100, optimal_performance = None):\n",
    "\n",
    "    data_NN, data_PQC = select_data(df_NN, df_PQC, env_name, n_holes, lr, n_eps)\n",
    "\n",
    "    best_policy_math_avg_NN = data_NN[\"best_policy_math_avg\"]\n",
    "    best_policy_math_avg_PQC = data_PQC[\"best_policy_math_avg\"]\n",
    "    plt.hist([best_policy_math_avg_NN, best_policy_math_avg_PQC], bins = bins, density= True, label= [\"NN\", \"PQC\"])\n",
    "    plt.title(f\"Performance distribution of the best policy in {env_name} {n_holes} holes \\n for lr {lr} and {n_eps} episodes\")\n",
    "    # if optimal_performance is not None:\n",
    "    #     plt.xticks(list(range(10))+ [optimal_performance])\n",
    "\n",
    "    plt.legend()\n",
    "    plt.show()\n",
    "\n",
    "    mean_performances_NN = data_NN[\"mean_performance\"]\n",
    "    mean_performances_PQC = data_PQC[\"mean_performance\"]\n",
    "\n",
    "    # if optimal_performance is not None:\n",
    "    #     plt.xticks([optimal_performance], [\"optimal\"])\n",
    "\n",
    "    plt.hist([mean_performances_NN, mean_performances_PQC], bins = bins, density= True, label= [\"NN\", \"PQC\"])\n",
    "    plt.title(f\"Performance distribution of the mean performance in {env_name} {n_holes} holes \\n for lr {lr} and {n_eps} episodes\")\n",
    "    plt.legend()\n",
    "    plt.show()\n",
    "    # avg_hist_NN = data_NN.hist(column = \"mean_performance\", bins= bins)\n",
    "    # avg_hist_PQC = data_PQC.hist(column = \"mean_performance\", bins= bins)\n",
    "\n",
    "    pass\n",
    "\n",
    "env_name = 'fiah'\n",
    "n_holes = 5\n",
    "lr = 0.001\n",
    "n_eps = 250000\n",
    "\n",
    "performance_distribution(df_NN, df_PQC, env_name, n_holes, lr, n_eps, bins = 20)"
   ]
  },
  {
   "cell_type": "markdown",
   "metadata": {},
   "source": [
    "## Convergence ratio"
   ]
  },
  {
   "cell_type": "code",
   "execution_count": 82,
   "metadata": {},
   "outputs": [
    {
     "name": "stdout",
     "output_type": "stream",
     "text": [
      "The ratio of models where at least 1 of the runs achieved the optimal policy was:\n",
      " NNs: 0.0, PQCs: 1.0.\n",
      "The total convergence ratios are:\n",
      " NNs: 0.0, PQCs: 0.49.\n"
     ]
    },
    {
     "name": "stderr",
     "output_type": "stream",
     "text": [
      "/home/s2025396/vscode/lib64/python3.6/site-packages/ipykernel_launcher.py:32: UserWarning: Boolean Series key will be reindexed to match DataFrame index.\n",
      "/home/s2025396/vscode/lib64/python3.6/site-packages/ipykernel_launcher.py:34: UserWarning: Boolean Series key will be reindexed to match DataFrame index.\n"
     ]
    }
   ],
   "source": [
    "def convergence_ratios(df_NN, df_PQC, env_name, n_holes, lr = None, n_eps = None, optimal_performance= None):\n",
    "    data_NN, data_PQC = select_data(df_NN, df_PQC, env_name, n_holes, lr, n_eps)\n",
    "    n_entries_NN = len(data_NN)\n",
    "    n_entries_PQC = len(data_PQC)\n",
    "\n",
    "    converged_NNs = data_NN[data_NN[\"best_policy_math_avg\"]==optimal_performance]\n",
    "    converged_PQCs = data_PQC[data_PQC[\"best_policy_math_avg\"]==optimal_performance]\n",
    "\n",
    "    ratio_at_leat_1_converged_NN = len(converged_NNs)/n_entries_NN\n",
    "    ratio_at_leat_1_converged_PQC = len(converged_PQCs)/n_entries_PQC\n",
    "\n",
    "    # \"n_achieved_best_policy\" is out of 10, so for full ratio need to take this into account\n",
    "    total_models_converged_NN = np.sum(converged_NNs[\"n_achieved_best_policy\"])\n",
    "    total_models_converged_PQC = np.sum(converged_PQCs[\"n_achieved_best_policy\"])\n",
    "\n",
    "    convergence_ratio_NNs = total_models_converged_NN/(n_entries_NN*10)\n",
    "    convergence_ratio_PQCs = total_models_converged_PQC/(n_entries_PQC*10)\n",
    "\n",
    "    print(\"The ratio of models where at least 1 of the runs achieved the optimal policy was:\\n NNs: {}, PQCs: {}.\".format(\n",
    "        ratio_at_leat_1_converged_NN, ratio_at_leat_1_converged_PQC\n",
    "    ))\n",
    "    print(\"The total convergence ratios are:\\n NNs: {}, PQCs: {}.\".format(\n",
    "        convergence_ratio_NNs, convergence_ratio_PQCs\n",
    "    ))\n",
    "\n",
    "    pass\n",
    "\n",
    "env_name = 'fiah'\n",
    "n_holes = 5\n",
    "lr = 0.1\n",
    "n_eps = 250000\n",
    "optimal_performance = df_optimal[df_optimal[\"environment\"]==env_name][df_optimal[\"n_holes\"]==n_holes][\"performance\"].values[0]\n",
    "\n",
    "convergence_ratios(df_NN, df_PQC, env_name, n_holes, lr, n_eps, df_optimal[df_optimal[\"environment\"]==env_name][df_optimal[\"n_holes\"]==n_holes][\"performance\"].values[0])\n"
   ]
  },
  {
   "cell_type": "markdown",
   "metadata": {},
   "source": [
    "## Training instability\n",
    "Analysing the ratio of runs that return nans\n"
   ]
  },
  {
   "cell_type": "code",
   "execution_count": 88,
   "metadata": {},
   "outputs": [
    {
     "data": {
      "image/png": "[encoded data removed]",
      "text/plain": [
       "<Figure size 432x288 with 1 Axes>"
      ]
     },
     "metadata": {
      "needs_background": "light"
     },
     "output_type": "display_data"
    },
    {
     "name": "stdout",
     "output_type": "stream",
     "text": [
      "The ratio of completed runs for fiah 5 holes with lr 0.1 neps 2500 was: \n",
      " NN: 0.6833333333333333, PQC: 1.0.\n"
     ]
    }
   ],
   "source": [
    "def completed_runs(df_NN, df_PQC, env_name=None, n_holes=None, lr = None, n_eps = None, bins = 100, plot_hist= True):\n",
    "    data_NN, data_PQC = select_data(df_NN, df_PQC, env_name, n_holes, lr, n_eps)\n",
    "\n",
    "    n_completed_runs_NN = data_NN[\"n_completed_runs\"].fillna(0)\n",
    "    n_completed_runs_PQC  = data_PQC[\"n_completed_runs\"].fillna(0)\n",
    "\n",
    "    if plot_hist:\n",
    "        plt.hist([n_completed_runs_NN, n_completed_runs_PQC], bins = bins, density= True, label= [\"NN\", \"PQC\"])\n",
    "        plt.title(f\"Distribution for the amount of completed runs in {env_name} {n_holes} holes \\n for lr {lr} and {n_eps} episodes\")\n",
    "        plt.legend()\n",
    "        plt.show()\n",
    "    \n",
    "    \n",
    "    print(\"The ratio of completed runs for {} {} holes with lr {} neps {} was: \\n NN: {}, PQC: {}.\".format(\n",
    "        env_name, n_holes, lr, n_eps, (np.sum(n_completed_runs_NN)/(len(n_completed_runs_NN)*10)), \n",
    "        (np.sum(n_completed_runs_PQC)/(len(n_completed_runs_PQC)*10))\n",
    "    ))\n",
    "\n",
    "env_name = 'fiah'\n",
    "n_holes = 5\n",
    "lr = 0.1\n",
    "n_eps = 250000\n",
    "completed_runs(df_NN, df_PQC, \"fiah\", 5, 0.1, 2500, 20)"
   ]
  },
  {
   "cell_type": "markdown",
   "metadata": {},
   "source": [
    "## Create table from results\n"
   ]
  },
  {
   "cell_type": "code",
   "execution_count": 36,
   "metadata": {},
   "outputs": [
    {
     "name": "stdout",
     "output_type": "stream",
     "text": [
      "             environment  n holes  n parameters PQC  n episodes PQC  \\\n",
      "0                   fiah        5                20            2500   \n",
      "1                   fiah        6                67          250000   \n",
      "2                   fiah        7                38           53860   \n",
      "3                   fiah        8               107          250000   \n",
      "4   givens-gx0.79-gy1.57        5                40          250000   \n",
      "5   givens-gx0.79-gy1.57        6                78            2500   \n",
      "6   givens-gx0.79-gy1.57        7                26            2500   \n",
      "7   givens-gx0.79-gy1.57        8                29          250000   \n",
      "8   givens-gx3.14-gy1.57        5                20            2500   \n",
      "9   givens-gx3.14-gy1.57        6                23            2500   \n",
      "10  givens-gx3.14-gy1.57        7                26           11600   \n",
      "11  givens-gx3.14-gy1.57        8                55          250000   \n",
      "12  givens-gy0.79-gx0.79        5                50           11600   \n",
      "13  givens-gy0.79-gx0.79        6                23            2500   \n",
      "14  givens-gy0.79-gx0.79        7                26           53860   \n",
      "15  givens-gy0.79-gx0.79        8                29          250000   \n",
      "\n",
      "    learning rate PQC  performance PQC             policy PQC  \\\n",
      "0               0.100           2.9309  [1 1 3 3 1 1 3 3 1 1]   \n",
      "1               0.001           3.4076  [1 4 2 1 4 4 1 1 4 4]   \n",
      "2               0.010           4.0290  [1 5 2 1 5 2 1 5 2 1]   \n",
      "3               0.010           4.5618  [3 6 6 1 1 3 6 6 1 1]   \n",
      "4               0.001           2.8353  [3 0 4 0 3 0 4 0 3 0]   \n",
      "5               0.100           3.3929  [4 1 1 4 1 1 4 1 1 4]   \n",
      "6               0.001           3.6611  [1 1 6 6 1 1 6 6 1 1]   \n",
      "7               0.010           4.1646  [1 1 5 5 1 1 5 5 1 1]   \n",
      "8               0.100           3.0000  [0 4 4 2 2 2 2 2 2 2]   \n",
      "9               0.010           3.5000  [4 4 1 1 0 5 3 3 1 1]   \n",
      "10              0.100           4.0000  [1 1 0 6 3 3 6 6 1 0]   \n",
      "11              0.010           4.5000  [3 3 1 1 7 0 5 5 5 7]   \n",
      "12              0.001           2.8585  [3 1 3 4 1 3 4 4 1 3]   \n",
      "13              0.100           3.0259  [0 5 0 5 0 5 0 5 0 5]   \n",
      "14              0.100           3.6557  [0 5 0 5 0 5 0 5 0 5]   \n",
      "15              0.010           3.9619  [0 7 0 7 0 7 0 7 0 7]   \n",
      "\n",
      "    n parameters NN  n episodes NN  learning rate NN  performance NN  \\\n",
      "0                27           2500             0.010          2.9309   \n",
      "1                96         250000             0.001          3.4206   \n",
      "2                72         250000             0.001          4.0179   \n",
      "3                64         250000             0.001          4.4937   \n",
      "4                60          53860             0.010          2.8392   \n",
      "5                66           2500             0.010          3.3929   \n",
      "6                46         250000             0.001          3.4462   \n",
      "7               138         250000             0.001          3.9565   \n",
      "8                27           2500             0.010          3.0000   \n",
      "9                30           2500             0.010          3.5000   \n",
      "10               33          11600             0.010          4.0000   \n",
      "11               36          53860             0.010          4.5000   \n",
      "12               89          11600             0.001          2.7635   \n",
      "13               42          53860             0.001          3.2336   \n",
      "14               99         250000             0.001          3.6132   \n",
      "15               36         250000             0.001          4.0352   \n",
      "\n",
      "                policy NN  optimal performance         optimal policy  \n",
      "0   [3 3 1 1 3 3 1 1 3 3]               2.9309  [1 1 3 3 1 1 3 3 1 1]  \n",
      "1   [4 1 3 4 1 3 4 1 3 4]               3.3919  [1 4 4 1 2 2 4 4 1 1]  \n",
      "2   [5 5 2 1 1 4 4 4 1 1]               4.0017  [1 5 2 1 5 4 1 5 3 1]  \n",
      "3   [6 6 3 1 1 3 6 6 3 1]               4.4937  [6 6 3 1 1 3 6 6 3 1]  \n",
      "4   [3 0 4 0 3 2 2 2 2 2]               2.8325  [3 0 4 0 3 0 4 2 3 0]  \n",
      "5   [4 1 1 4 1 1 4 1 1 4]               3.3444  [0 3 5 4 4 4 0 5 3 3]  \n",
      "6   [5 0 6 6 2 2 6 6 2 6]               3.4164  [5 0 6 6 2 2 2 6 4 1]  \n",
      "7   [3 0 1 6 6 1 1 6 6 1]               3.7856  [1 5 0 6 6 2 7 4 2 2]  \n",
      "8   [4 4 2 2 0 2 2 2 2 2]               3.0000  [3 3 1 1 0 0 0 0 0 0]  \n",
      "9   [1 3 3 1 5 0 5 0 0 1]               3.5000  [5 3 3 1 1 0 0 0 0 0]  \n",
      "10  [5 5 0 3 3 2 2 3 3 3]               4.0000  [5 5 3 3 1 1 0 0 0 0]  \n",
      "11  [6 6 2 2 0 4 4 7 7 0]               4.5000  [7 5 5 3 3 1 1 0 0 0]  \n",
      "12  [3 1 3 4 4 1 4 4 4 1]               2.6472  [2 1 3 3 0 3 4 0 2 2]  \n",
      "13  [3 5 2 2 5 2 2 5 2 2]               2.8326  [1 5 2 5 0 5 0 5 3 1]  \n",
      "14  [3 5 2 5 2 5 5 5 5 2]               3.4658  [3 5 2 5 2 5 2 1 3 5]  \n",
      "15  [6 1 4 1 7 1 7 1 7 1]               3.5036  [4 7 4 1 7 2 7 1 7 3]  \n",
      "\\begin{tabular}{lrrrrrlrrrrlrl}\n",
      "environment & n holes & n parameters PQC & n episodes PQC & learning rate PQC & performance PQC & policy PQC & n parameters NN & n episodes NN & learning rate NN & performance NN & policy NN & optimal performance & optimal policy \\\\\n",
      "fiah & 5 & 20 & 2500 & 0.100000 & 2.930900 & [1 1 3 3 1 1 3 3 1 1] & 27 & 2500 & 0.010000 & 2.930900 & [3 3 1 1 3 3 1 1 3 3] & 2.930900 & [1 1 3 3 1 1 3 3 1 1] \\\\\n",
      "fiah & 6 & 67 & 250000 & 0.001000 & 3.407600 & [1 4 2 1 4 4 1 1 4 4] & 96 & 250000 & 0.001000 & 3.420600 & [4 1 3 4 1 3 4 1 3 4] & 3.391900 & [1 4 4 1 2 2 4 4 1 1] \\\\\n",
      "fiah & 7 & 38 & 53860 & 0.010000 & 4.029000 & [1 5 2 1 5 2 1 5 2 1] & 72 & 250000 & 0.001000 & 4.017900 & [5 5 2 1 1 4 4 4 1 1] & 4.001700 & [1 5 2 1 5 4 1 5 3 1] \\\\\n",
      "fiah & 8 & 107 & 250000 & 0.010000 & 4.561800 & [3 6 6 1 1 3 6 6 1 1] & 64 & 250000 & 0.001000 & 4.493700 & [6 6 3 1 1 3 6 6 3 1] & 4.493700 & [6 6 3 1 1 3 6 6 3 1] \\\\\n",
      "givens-gx0.79-gy1.57 & 5 & 40 & 250000 & 0.001000 & 2.835300 & [3 0 4 0 3 0 4 0 3 0] & 60 & 53860 & 0.010000 & 2.839200 & [3 0 4 0 3 2 2 2 2 2] & 2.832500 & [3 0 4 0 3 0 4 2 3 0] \\\\\n",
      "givens-gx0.79-gy1.57 & 6 & 78 & 2500 & 0.100000 & 3.392900 & [4 1 1 4 1 1 4 1 1 4] & 66 & 2500 & 0.010000 & 3.392900 & [4 1 1 4 1 1 4 1 1 4] & 3.344400 & [0 3 5 4 4 4 0 5 3 3] \\\\\n",
      "givens-gx0.79-gy1.57 & 7 & 26 & 2500 & 0.001000 & 3.661100 & [1 1 6 6 1 1 6 6 1 1] & 46 & 250000 & 0.001000 & 3.446200 & [5 0 6 6 2 2 6 6 2 6] & 3.416400 & [5 0 6 6 2 2 2 6 4 1] \\\\\n",
      "givens-gx0.79-gy1.57 & 8 & 29 & 250000 & 0.010000 & 4.164600 & [1 1 5 5 1 1 5 5 1 1] & 138 & 250000 & 0.001000 & 3.956500 & [3 0 1 6 6 1 1 6 6 1] & 3.785600 & [1 5 0 6 6 2 7 4 2 2] \\\\\n",
      "givens-gx3.14-gy1.57 & 5 & 20 & 2500 & 0.100000 & 3.000000 & [0 4 4 2 2 2 2 2 2 2] & 27 & 2500 & 0.010000 & 3.000000 & [4 4 2 2 0 2 2 2 2 2] & 3.000000 & [3 3 1 1 0 0 0 0 0 0] \\\\\n",
      "givens-gx3.14-gy1.57 & 6 & 23 & 2500 & 0.010000 & 3.500000 & [4 4 1 1 0 5 3 3 1 1] & 30 & 2500 & 0.010000 & 3.500000 & [1 3 3 1 5 0 5 0 0 1] & 3.500000 & [5 3 3 1 1 0 0 0 0 0] \\\\\n",
      "givens-gx3.14-gy1.57 & 7 & 26 & 11600 & 0.100000 & 4.000000 & [1 1 0 6 3 3 6 6 1 0] & 33 & 11600 & 0.010000 & 4.000000 & [5 5 0 3 3 2 2 3 3 3] & 4.000000 & [5 5 3 3 1 1 0 0 0 0] \\\\\n",
      "givens-gx3.14-gy1.57 & 8 & 55 & 250000 & 0.010000 & 4.500000 & [3 3 1 1 7 0 5 5 5 7] & 36 & 53860 & 0.010000 & 4.500000 & [6 6 2 2 0 4 4 7 7 0] & 4.500000 & [7 5 5 3 3 1 1 0 0 0] \\\\\n",
      "givens-gy0.79-gx0.79 & 5 & 50 & 11600 & 0.001000 & 2.858500 & [3 1 3 4 1 3 4 4 1 3] & 89 & 11600 & 0.001000 & 2.763500 & [3 1 3 4 4 1 4 4 4 1] & 2.647200 & [2 1 3 3 0 3 4 0 2 2] \\\\\n",
      "givens-gy0.79-gx0.79 & 6 & 23 & 2500 & 0.100000 & 3.025900 & [0 5 0 5 0 5 0 5 0 5] & 42 & 53860 & 0.001000 & 3.233600 & [3 5 2 2 5 2 2 5 2 2] & 2.832600 & [1 5 2 5 0 5 0 5 3 1] \\\\\n",
      "givens-gy0.79-gx0.79 & 7 & 26 & 53860 & 0.100000 & 3.655700 & [0 5 0 5 0 5 0 5 0 5] & 99 & 250000 & 0.001000 & 3.613200 & [3 5 2 5 2 5 5 5 5 2] & 3.465800 & [3 5 2 5 2 5 2 1 3 5] \\\\\n",
      "givens-gy0.79-gx0.79 & 8 & 29 & 250000 & 0.010000 & 3.961900 & [0 7 0 7 0 7 0 7 0 7] & 36 & 250000 & 0.001000 & 4.035200 & [6 1 4 1 7 1 7 1 7 1] & 3.503600 & [4 7 4 1 7 2 7 1 7 3] \\\\\n",
      "\\end{tabular}\n",
      "\n"
     ]
    },
    {
     "name": "stderr",
     "output_type": "stream",
     "text": [
      "C:\\Users\\thebo\\AppData\\Local\\Temp\\ipykernel_19064\\3356507138.py:17: UserWarning: Boolean Series key will be reindexed to match DataFrame index.\n",
      "  relevant_data = data_PQC[data_PQC[\"environment\"]==env][data_PQC[\"n_holes\"]==hole_nr]\n",
      "C:\\Users\\thebo\\AppData\\Local\\Temp\\ipykernel_19064\\3356507138.py:34: UserWarning: Boolean Series key will be reindexed to match DataFrame index.\n",
      "  relevant_data = data_NN[data_NN[\"environment\"]==env][data_NN[\"n_holes\"]==hole_nr]\n",
      "C:\\Users\\thebo\\AppData\\Local\\Temp\\ipykernel_19064\\3356507138.py:49: UserWarning: Boolean Series key will be reindexed to match DataFrame index.\n",
      "  optimal = df_optimal[df_optimal[\"environment\"]==env][df_optimal[\"n_holes\"]==hole_nr]\n",
      "C:\\Users\\thebo\\AppData\\Local\\Temp\\ipykernel_19064\\3356507138.py:17: UserWarning: Boolean Series key will be reindexed to match DataFrame index.\n",
      "  relevant_data = data_PQC[data_PQC[\"environment\"]==env][data_PQC[\"n_holes\"]==hole_nr]\n",
      "C:\\Users\\thebo\\AppData\\Local\\Temp\\ipykernel_19064\\3356507138.py:34: UserWarning: Boolean Series key will be reindexed to match DataFrame index.\n",
      "  relevant_data = data_NN[data_NN[\"environment\"]==env][data_NN[\"n_holes\"]==hole_nr]\n",
      "C:\\Users\\thebo\\AppData\\Local\\Temp\\ipykernel_19064\\3356507138.py:49: UserWarning: Boolean Series key will be reindexed to match DataFrame index.\n",
      "  optimal = df_optimal[df_optimal[\"environment\"]==env][df_optimal[\"n_holes\"]==hole_nr]\n",
      "C:\\Users\\thebo\\AppData\\Local\\Temp\\ipykernel_19064\\3356507138.py:17: UserWarning: Boolean Series key will be reindexed to match DataFrame index.\n",
      "  relevant_data = data_PQC[data_PQC[\"environment\"]==env][data_PQC[\"n_holes\"]==hole_nr]\n",
      "C:\\Users\\thebo\\AppData\\Local\\Temp\\ipykernel_19064\\3356507138.py:34: UserWarning: Boolean Series key will be reindexed to match DataFrame index.\n",
      "  relevant_data = data_NN[data_NN[\"environment\"]==env][data_NN[\"n_holes\"]==hole_nr]\n",
      "C:\\Users\\thebo\\AppData\\Local\\Temp\\ipykernel_19064\\3356507138.py:49: UserWarning: Boolean Series key will be reindexed to match DataFrame index.\n",
      "  optimal = df_optimal[df_optimal[\"environment\"]==env][df_optimal[\"n_holes\"]==hole_nr]\n",
      "C:\\Users\\thebo\\AppData\\Local\\Temp\\ipykernel_19064\\3356507138.py:17: UserWarning: Boolean Series key will be reindexed to match DataFrame index.\n",
      "  relevant_data = data_PQC[data_PQC[\"environment\"]==env][data_PQC[\"n_holes\"]==hole_nr]\n",
      "C:\\Users\\thebo\\AppData\\Local\\Temp\\ipykernel_19064\\3356507138.py:34: UserWarning: Boolean Series key will be reindexed to match DataFrame index.\n",
      "  relevant_data = data_NN[data_NN[\"environment\"]==env][data_NN[\"n_holes\"]==hole_nr]\n",
      "C:\\Users\\thebo\\AppData\\Local\\Temp\\ipykernel_19064\\3356507138.py:49: UserWarning: Boolean Series key will be reindexed to match DataFrame index.\n",
      "  optimal = df_optimal[df_optimal[\"environment\"]==env][df_optimal[\"n_holes\"]==hole_nr]\n",
      "C:\\Users\\thebo\\AppData\\Local\\Temp\\ipykernel_19064\\3356507138.py:17: UserWarning: Boolean Series key will be reindexed to match DataFrame index.\n",
      "  relevant_data = data_PQC[data_PQC[\"environment\"]==env][data_PQC[\"n_holes\"]==hole_nr]\n",
      "C:\\Users\\thebo\\AppData\\Local\\Temp\\ipykernel_19064\\3356507138.py:34: UserWarning: Boolean Series key will be reindexed to match DataFrame index.\n",
      "  relevant_data = data_NN[data_NN[\"environment\"]==env][data_NN[\"n_holes\"]==hole_nr]\n",
      "C:\\Users\\thebo\\AppData\\Local\\Temp\\ipykernel_19064\\3356507138.py:49: UserWarning: Boolean Series key will be reindexed to match DataFrame index.\n",
      "  optimal = df_optimal[df_optimal[\"environment\"]==env][df_optimal[\"n_holes\"]==hole_nr]\n",
      "C:\\Users\\thebo\\AppData\\Local\\Temp\\ipykernel_19064\\3356507138.py:17: UserWarning: Boolean Series key will be reindexed to match DataFrame index.\n",
      "  relevant_data = data_PQC[data_PQC[\"environment\"]==env][data_PQC[\"n_holes\"]==hole_nr]\n",
      "C:\\Users\\thebo\\AppData\\Local\\Temp\\ipykernel_19064\\3356507138.py:34: UserWarning: Boolean Series key will be reindexed to match DataFrame index.\n",
      "  relevant_data = data_NN[data_NN[\"environment\"]==env][data_NN[\"n_holes\"]==hole_nr]\n",
      "C:\\Users\\thebo\\AppData\\Local\\Temp\\ipykernel_19064\\3356507138.py:49: UserWarning: Boolean Series key will be reindexed to match DataFrame index.\n",
      "  optimal = df_optimal[df_optimal[\"environment\"]==env][df_optimal[\"n_holes\"]==hole_nr]\n",
      "C:\\Users\\thebo\\AppData\\Local\\Temp\\ipykernel_19064\\3356507138.py:17: UserWarning: Boolean Series key will be reindexed to match DataFrame index.\n",
      "  relevant_data = data_PQC[data_PQC[\"environment\"]==env][data_PQC[\"n_holes\"]==hole_nr]\n",
      "C:\\Users\\thebo\\AppData\\Local\\Temp\\ipykernel_19064\\3356507138.py:34: UserWarning: Boolean Series key will be reindexed to match DataFrame index.\n",
      "  relevant_data = data_NN[data_NN[\"environment\"]==env][data_NN[\"n_holes\"]==hole_nr]\n",
      "C:\\Users\\thebo\\AppData\\Local\\Temp\\ipykernel_19064\\3356507138.py:49: UserWarning: Boolean Series key will be reindexed to match DataFrame index.\n",
      "  optimal = df_optimal[df_optimal[\"environment\"]==env][df_optimal[\"n_holes\"]==hole_nr]\n",
      "C:\\Users\\thebo\\AppData\\Local\\Temp\\ipykernel_19064\\3356507138.py:17: UserWarning: Boolean Series key will be reindexed to match DataFrame index.\n",
      "  relevant_data = data_PQC[data_PQC[\"environment\"]==env][data_PQC[\"n_holes\"]==hole_nr]\n",
      "C:\\Users\\thebo\\AppData\\Local\\Temp\\ipykernel_19064\\3356507138.py:34: UserWarning: Boolean Series key will be reindexed to match DataFrame index.\n",
      "  relevant_data = data_NN[data_NN[\"environment\"]==env][data_NN[\"n_holes\"]==hole_nr]\n",
      "C:\\Users\\thebo\\AppData\\Local\\Temp\\ipykernel_19064\\3356507138.py:49: UserWarning: Boolean Series key will be reindexed to match DataFrame index.\n",
      "  optimal = df_optimal[df_optimal[\"environment\"]==env][df_optimal[\"n_holes\"]==hole_nr]\n",
      "C:\\Users\\thebo\\AppData\\Local\\Temp\\ipykernel_19064\\3356507138.py:17: UserWarning: Boolean Series key will be reindexed to match DataFrame index.\n",
      "  relevant_data = data_PQC[data_PQC[\"environment\"]==env][data_PQC[\"n_holes\"]==hole_nr]\n",
      "C:\\Users\\thebo\\AppData\\Local\\Temp\\ipykernel_19064\\3356507138.py:34: UserWarning: Boolean Series key will be reindexed to match DataFrame index.\n",
      "  relevant_data = data_NN[data_NN[\"environment\"]==env][data_NN[\"n_holes\"]==hole_nr]\n",
      "C:\\Users\\thebo\\AppData\\Local\\Temp\\ipykernel_19064\\3356507138.py:49: UserWarning: Boolean Series key will be reindexed to match DataFrame index.\n",
      "  optimal = df_optimal[df_optimal[\"environment\"]==env][df_optimal[\"n_holes\"]==hole_nr]\n",
      "C:\\Users\\thebo\\AppData\\Local\\Temp\\ipykernel_19064\\3356507138.py:17: UserWarning: Boolean Series key will be reindexed to match DataFrame index.\n",
      "  relevant_data = data_PQC[data_PQC[\"environment\"]==env][data_PQC[\"n_holes\"]==hole_nr]\n",
      "C:\\Users\\thebo\\AppData\\Local\\Temp\\ipykernel_19064\\3356507138.py:34: UserWarning: Boolean Series key will be reindexed to match DataFrame index.\n",
      "  relevant_data = data_NN[data_NN[\"environment\"]==env][data_NN[\"n_holes\"]==hole_nr]\n",
      "C:\\Users\\thebo\\AppData\\Local\\Temp\\ipykernel_19064\\3356507138.py:49: UserWarning: Boolean Series key will be reindexed to match DataFrame index.\n",
      "  optimal = df_optimal[df_optimal[\"environment\"]==env][df_optimal[\"n_holes\"]==hole_nr]\n",
      "C:\\Users\\thebo\\AppData\\Local\\Temp\\ipykernel_19064\\3356507138.py:17: UserWarning: Boolean Series key will be reindexed to match DataFrame index.\n",
      "  relevant_data = data_PQC[data_PQC[\"environment\"]==env][data_PQC[\"n_holes\"]==hole_nr]\n",
      "C:\\Users\\thebo\\AppData\\Local\\Temp\\ipykernel_19064\\3356507138.py:34: UserWarning: Boolean Series key will be reindexed to match DataFrame index.\n",
      "  relevant_data = data_NN[data_NN[\"environment\"]==env][data_NN[\"n_holes\"]==hole_nr]\n",
      "C:\\Users\\thebo\\AppData\\Local\\Temp\\ipykernel_19064\\3356507138.py:49: UserWarning: Boolean Series key will be reindexed to match DataFrame index.\n",
      "  optimal = df_optimal[df_optimal[\"environment\"]==env][df_optimal[\"n_holes\"]==hole_nr]\n",
      "C:\\Users\\thebo\\AppData\\Local\\Temp\\ipykernel_19064\\3356507138.py:17: UserWarning: Boolean Series key will be reindexed to match DataFrame index.\n",
      "  relevant_data = data_PQC[data_PQC[\"environment\"]==env][data_PQC[\"n_holes\"]==hole_nr]\n",
      "C:\\Users\\thebo\\AppData\\Local\\Temp\\ipykernel_19064\\3356507138.py:34: UserWarning: Boolean Series key will be reindexed to match DataFrame index.\n",
      "  relevant_data = data_NN[data_NN[\"environment\"]==env][data_NN[\"n_holes\"]==hole_nr]\n",
      "C:\\Users\\thebo\\AppData\\Local\\Temp\\ipykernel_19064\\3356507138.py:49: UserWarning: Boolean Series key will be reindexed to match DataFrame index.\n",
      "  optimal = df_optimal[df_optimal[\"environment\"]==env][df_optimal[\"n_holes\"]==hole_nr]\n",
      "C:\\Users\\thebo\\AppData\\Local\\Temp\\ipykernel_19064\\3356507138.py:17: UserWarning: Boolean Series key will be reindexed to match DataFrame index.\n",
      "  relevant_data = data_PQC[data_PQC[\"environment\"]==env][data_PQC[\"n_holes\"]==hole_nr]\n",
      "C:\\Users\\thebo\\AppData\\Local\\Temp\\ipykernel_19064\\3356507138.py:34: UserWarning: Boolean Series key will be reindexed to match DataFrame index.\n",
      "  relevant_data = data_NN[data_NN[\"environment\"]==env][data_NN[\"n_holes\"]==hole_nr]\n",
      "C:\\Users\\thebo\\AppData\\Local\\Temp\\ipykernel_19064\\3356507138.py:49: UserWarning: Boolean Series key will be reindexed to match DataFrame index.\n",
      "  optimal = df_optimal[df_optimal[\"environment\"]==env][df_optimal[\"n_holes\"]==hole_nr]\n",
      "C:\\Users\\thebo\\AppData\\Local\\Temp\\ipykernel_19064\\3356507138.py:17: UserWarning: Boolean Series key will be reindexed to match DataFrame index.\n",
      "  relevant_data = data_PQC[data_PQC[\"environment\"]==env][data_PQC[\"n_holes\"]==hole_nr]\n",
      "C:\\Users\\thebo\\AppData\\Local\\Temp\\ipykernel_19064\\3356507138.py:34: UserWarning: Boolean Series key will be reindexed to match DataFrame index.\n",
      "  relevant_data = data_NN[data_NN[\"environment\"]==env][data_NN[\"n_holes\"]==hole_nr]\n",
      "C:\\Users\\thebo\\AppData\\Local\\Temp\\ipykernel_19064\\3356507138.py:49: UserWarning: Boolean Series key will be reindexed to match DataFrame index.\n",
      "  optimal = df_optimal[df_optimal[\"environment\"]==env][df_optimal[\"n_holes\"]==hole_nr]\n",
      "C:\\Users\\thebo\\AppData\\Local\\Temp\\ipykernel_19064\\3356507138.py:17: UserWarning: Boolean Series key will be reindexed to match DataFrame index.\n",
      "  relevant_data = data_PQC[data_PQC[\"environment\"]==env][data_PQC[\"n_holes\"]==hole_nr]\n",
      "C:\\Users\\thebo\\AppData\\Local\\Temp\\ipykernel_19064\\3356507138.py:34: UserWarning: Boolean Series key will be reindexed to match DataFrame index.\n",
      "  relevant_data = data_NN[data_NN[\"environment\"]==env][data_NN[\"n_holes\"]==hole_nr]\n",
      "C:\\Users\\thebo\\AppData\\Local\\Temp\\ipykernel_19064\\3356507138.py:49: UserWarning: Boolean Series key will be reindexed to match DataFrame index.\n",
      "  optimal = df_optimal[df_optimal[\"environment\"]==env][df_optimal[\"n_holes\"]==hole_nr]\n",
      "C:\\Users\\thebo\\AppData\\Local\\Temp\\ipykernel_19064\\3356507138.py:17: UserWarning: Boolean Series key will be reindexed to match DataFrame index.\n",
      "  relevant_data = data_PQC[data_PQC[\"environment\"]==env][data_PQC[\"n_holes\"]==hole_nr]\n",
      "C:\\Users\\thebo\\AppData\\Local\\Temp\\ipykernel_19064\\3356507138.py:34: UserWarning: Boolean Series key will be reindexed to match DataFrame index.\n",
      "  relevant_data = data_NN[data_NN[\"environment\"]==env][data_NN[\"n_holes\"]==hole_nr]\n",
      "C:\\Users\\thebo\\AppData\\Local\\Temp\\ipykernel_19064\\3356507138.py:49: UserWarning: Boolean Series key will be reindexed to match DataFrame index.\n",
      "  optimal = df_optimal[df_optimal[\"environment\"]==env][df_optimal[\"n_holes\"]==hole_nr]\n"
     ]
    }
   ],
   "source": [
    "def write_bests_to_table(df_NN, df_PQC, df_optimal, env_name=None, n_holes=None, print_latex = False):\n",
    "    data_NN, data_PQC = select_data(df_NN, df_PQC, env_name, n_holes)\n",
    "\n",
    "    #all_data = pd.concat([data_NN, data_PQC], ignore_index= True, sort= False)\n",
    "\n",
    "    env_names = np.unique(data_NN[\"environment\"])\n",
    "    hole_nrs = np.unique(data_NN[\"n_holes\"])\n",
    "\n",
    "\n",
    "    table_data = []\n",
    "\n",
    "    for env in env_names:\n",
    "        for hole_nr in hole_nrs:\n",
    "            row = [env, hole_nr]\n",
    "\n",
    "            ## PQC\n",
    "            relevant_data = data_PQC[data_PQC[\"environment\"]==env][data_PQC[\"n_holes\"]==hole_nr]\n",
    "            best_performance = np.nanmin(relevant_data['best_policy_math_avg'])\n",
    "            relevant_data = relevant_data[relevant_data[\"best_policy_math_avg\"]==best_performance]\n",
    "            min_params = np.min(relevant_data['number_of_parameters'])\n",
    "            relevant_data = relevant_data[relevant_data['number_of_parameters']==min_params]\n",
    "            min_eps = np.min(relevant_data['n_episodes'])\n",
    "            relevant_data = relevant_data[relevant_data['n_episodes']==min_eps]\n",
    "            # print(relevant_data)\n",
    "            min_lr_arg = np.argmin(relevant_data['learning_rate'])\n",
    "            # print(min_lr_arg)\n",
    "            relevant_data = relevant_data.iloc[min_lr_arg]\n",
    "            min_lr = relevant_data['learning_rate']\n",
    "            policy = relevant_data['best_policy']\n",
    "            row_PQC = [min_params, min_eps, min_lr, best_performance, policy]\n",
    "            row.extend(row_PQC)\n",
    "\n",
    "            #NN\n",
    "            relevant_data = data_NN[data_NN[\"environment\"]==env][data_NN[\"n_holes\"]==hole_nr]\n",
    "            best_performance = np.nanmin(relevant_data['best_policy_math_avg'])\n",
    "            relevant_data = relevant_data[relevant_data[\"best_policy_math_avg\"]==best_performance]\n",
    "            min_params = np.min(relevant_data['number_of_parameters'])\n",
    "            relevant_data = relevant_data[relevant_data['number_of_parameters']==min_params]\n",
    "            min_eps = np.min(relevant_data['n_episodes'])\n",
    "            relevant_data = relevant_data[relevant_data['n_episodes']==min_eps]\n",
    "            # print(relevant_data)\n",
    "            min_lr_arg = np.argmin(relevant_data['learning_rate'])\n",
    "            # print(min_lr_arg)\n",
    "            relevant_data = relevant_data.iloc[min_lr_arg]\n",
    "            min_lr = relevant_data['learning_rate']\n",
    "            policy = relevant_data['best_policy']\n",
    "            row_NN = [min_params, min_eps, min_lr, best_performance, policy]\n",
    "            row.extend(row_NN)\n",
    "            optimal = df_optimal[df_optimal[\"environment\"]==env][df_optimal[\"n_holes\"]==hole_nr]\n",
    "            row.extend([optimal[\"performance\"].to_numpy()[0], optimal[\"policy\"].to_numpy()[0]])\n",
    "\n",
    "            table_data.append(row)\n",
    "\n",
    "    \n",
    "    results= pd.DataFrame(data = table_data, columns = ['environment', 'n holes', 'n parameters PQC', 'n episodes PQC', 'learning rate PQC', 'performance PQC', 'policy PQC', 'n parameters NN', 'n episodes NN', 'learning rate NN', 'performance NN', 'policy NN', \"optimal performance\", \"optimal policy\"] )\n",
    "    with pd.option_context('display.max_rows', None, 'display.max_columns', None):\n",
    "        print(results)\n",
    "\n",
    "    if print_latex:\n",
    "        style = results.style\n",
    "        style.hide()\n",
    "        print(style.to_latex())\n",
    "    \n",
    "    pass\n",
    "\n",
    "def write_specific_to_table(df_NN, df_PQC, env_name=None, n_holes=None, lr = None, n_episodes = None, print_latex = False):\n",
    "    data_NN, data_PQC = select_data(df_NN, df_PQC, env_name, n_holes)\n",
    "\n",
    "    all_data = pd.concat([data_NN, data_PQC], ignore_index= True, sort= False)\n",
    "\n",
    "    env_names = np.unique(data_NN[\"environment\"])\n",
    "    hole_nrs = np.unique(data_NN[\"n_holes\"])\n",
    "\n",
    "\n",
    "    table_data = []\n",
    "\n",
    "    for env in env_names:\n",
    "        for hole_nr in hole_nrs:\n",
    "\n",
    "            relevant_data = all_data[all_data[\"environment\"]==env][all_data[\"n_holes\"]==hole_nr]\n",
    "            best_performance = np.nanmin(relevant_data['best_policy_math_avg'])\n",
    "            relevant_data = relevant_data[relevant_data[\"best_policy_math_avg\"]==best_performance]\n",
    "            min_params = np.min(relevant_data['number_of_parameters'])\n",
    "            relevant_data = relevant_data[relevant_data['number_of_parameters']==min_params]\n",
    "            min_eps = np.min(relevant_data['n_episodes'])\n",
    "            relevant_data = relevant_data[relevant_data['n_episodes']==min_eps]\n",
    "            # print(relevant_data)\n",
    "            min_lr_arg = np.argmin(relevant_data['learning_rate'])\n",
    "            # print(min_lr_arg)\n",
    "            relevant_data = relevant_data.iloc[min_lr_arg]\n",
    "            min_lr = relevant_data['learning_rate']\n",
    "            type = relevant_data['type']\n",
    "            policy = np.array(relevant_data['best_policy'])\n",
    "            row = [env, hole_nr, type, min_params, min_eps, min_lr, best_performance, policy]\n",
    "            table_data.append(row)\n",
    "\n",
    "    \n",
    "    results= pd.DataFrame(data = table_data, columns = ['environment', 'n holes', 'type', 'n parameters', 'n episodes', 'learning rate', 'performance', 'policy'])\n",
    "    with pd.option_context('display.max_rows', None, 'display.max_columns', None):\n",
    "        print(results)\n",
    "    \n",
    "    if print_latex:\n",
    "        results.style.to_latex()\n",
    "\n",
    "    pass\n",
    "\n",
    "write_bests_to_table(df_NN, df_PQC, df_optimal, print_latex= True)"
   ]
  },
  {
   "cell_type": "markdown",
   "metadata": {},
   "source": []
  },
  {
   "cell_type": "markdown",
   "metadata": {},
   "source": [
    "## Writing back to CSV\n",
    "Use the correct file path with index = False"
   ]
  },
  {
   "cell_type": "code",
   "execution_count": 20,
   "metadata": {},
   "outputs": [],
   "source": [
    "# df_PQC.to_csv(path_or_buf= csv_path_PQC, index = False)"
   ]
  },
  {
   "cell_type": "code",
   "execution_count": null,
   "metadata": {},
   "outputs": [],
   "source": []
  }
 ],
 "metadata": {
  "kernelspec": {
   "display_name": "tfqenv3",
   "language": "python",
   "name": "python3"
  },
  "language_info": {
   "codemirror_mode": {
    "name": "ipython",
    "version": 3
   },
   "file_extension": ".py",
   "mimetype": "text/x-python",
   "name": "python",
   "nbconvert_exporter": "python",
   "pygments_lexer": "ipython3",
   "version": "3.12.2"
  }
 },
 "nbformat": 4,
 "nbformat_minor": 2
}
