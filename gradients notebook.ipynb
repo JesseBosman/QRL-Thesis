{
 "cells": [
  {
   "cell_type": "code",
   "execution_count": 1,
   "metadata": {},
   "outputs": [],
   "source": [
    "from qibo import Circuit, gates\n",
    "import tensorflow as tf\n",
    "import numpy as np"
   ]
  },
  {
   "cell_type": "code",
   "execution_count": 12,
   "metadata": {},
   "outputs": [
    {
     "name": "stdout",
     "output_type": "stream",
     "text": [
      "tf.Tensor(\n",
      "[ 0.76102116+0.j          0.        +0.j          0.        -0.64099928j\n",
      "  0.        +0.j          0.        -0.07635681j  0.        +0.j\n",
      " -0.06431445+0.j          0.        +0.j        ], shape=(8,), dtype=complex128)\n",
      "tf.Tensor(\n",
      "[ 0.9722788 +0.j          0.        +0.j          0.        -0.22560242j\n",
      "  0.        +0.j         -0.01389207+0.j          0.        +0.j\n",
      "  0.        -0.05987065j  0.        +0.j        ], shape=(8,), dtype=complex128)\n",
      "(0.97228+0j)|000> + -0.2256j|010> + (-0.01389+0j)|100> + -0.05987j|110>\n"
     ]
    }
   ],
   "source": [
    "# create a circuit with all parameters set to 0.\n",
    "c = Circuit(3)\n",
    "c.add(gates.RX(0, theta=0))\n",
    "c.add(gates.RX(1, theta=0))\n",
    "c.add(gates.CNOT(0, 1))\n",
    "\n",
    "b = Circuit(3)\n",
    "b.add(gates.RX(0, 0.2))\n",
    "b.add(gates.RX(1, 1.4))\n",
    "b.add(gates.CNOT(0,1))\n",
    "\n",
    "result = c(b().state())\n",
    "\n",
    "\n",
    "\n",
    "\n",
    "params = [0.123, 0.456]\n",
    "probs = tf.convert_to_tensor([1,0,0,0,0,0,0,-1])\n",
    "c.set_parameters(params)\n",
    "print(result.state())\n",
    "print(c().state())\n",
    "print(c.final_state)"
   ]
  },
  {
   "cell_type": "code",
   "execution_count": 3,
   "metadata": {},
   "outputs": [
    {
     "name": "stderr",
     "output_type": "stream",
     "text": [
      "[Qibo 0.2.1|INFO|2023-11-03 14:40:08]: Using tensorflow backend on /device:GPU:0\n"
     ]
    }
   ],
   "source": [
    "with tf.GradientTape() as tape:\n",
    "    params = tf.convert_to_tensor([0.5, 0.5])\n",
    "    tape.watch(params)\n",
    "    c.set_parameters(params)\n",
    "    result = c().state()\n",
    "    amplitudes = tf.cast(result*tf.math.conj(result), dtype = tf.float32)\n",
    "    cost = amplitudes*probs\n",
    "    cost = tf.math.reduce_sum(cost)\n",
    "    \n",
    "\n",
    "g = tape.gradient(cost, params)\n"
   ]
  },
  {
   "cell_type": "code",
   "execution_count": 4,
   "metadata": {},
   "outputs": [
    {
     "name": "stdout",
     "output_type": "stream",
     "text": [
      "tf.Tensor([-0.23971277 -0.23971277], shape=(2,), dtype=float32)\n"
     ]
    }
   ],
   "source": [
    "print(g)"
   ]
  },
  {
   "cell_type": "code",
   "execution_count": 1,
   "metadata": {},
   "outputs": [],
   "source": [
    "from PQC_qibo import ReUploadingPQC, generate_circuit\n",
    "import tensorflow as tf\n",
    "import numpy as np"
   ]
  },
  {
   "cell_type": "code",
   "execution_count": 2,
   "metadata": {},
   "outputs": [
    {
     "name": "stderr",
     "output_type": "stream",
     "text": [
      "2023-11-06 16:50:24.254057: I tensorflow/core/common_runtime/gpu/gpu_device.cc:1613] Created device /job:localhost/replica:0/task:0/device:GPU:0 with 13249 MB memory:  -> device: 0, name: Tesla T4, pci bus id: 0000:d8:00.0, compute capability: 7.5\n"
     ]
    }
   ],
   "source": [
    "qubits = np.arange(4)\n",
    "model = ReUploadingPQC(qubits, 2, 2)"
   ]
  },
  {
   "cell_type": "code",
   "execution_count": 3,
   "metadata": {},
   "outputs": [
    {
     "name": "stderr",
     "output_type": "stream",
     "text": [
      "[Qibo 0.2.1|INFO|2023-11-06 16:50:24]: Using tensorflow backend on /device:GPU:0\n"
     ]
    },
    {
     "name": "stdout",
     "output_type": "stream",
     "text": [
      "tf.Tensor(\n",
      "[0.0225314  0.0255793  0.35156026 0.01075338 0.00403831 0.05468823\n",
      " 0.04385179 0.03817671 0.08708753 0.16742066 0.02492792 0.01169796\n",
      " 0.06447768 0.01700215 0.01999754 0.05621004], shape=(16,), dtype=float32)\n",
      "cost\n",
      "tf.Tensor(0.49441600332773017, shape=(), dtype=float64)\n"
     ]
    }
   ],
   "source": [
    "inputs = tf.convert_to_tensor([1.0,2.0])\n",
    "inputs = tf.reshape(inputs, shape=(2,1))\n",
    "print(model(inputs))\n",
    "probs = np.random.random(2**4)\n",
    "probs = tf.convert_to_tensor(probs)\n",
    "with tf.GradientTape() as tape:\n",
    "    tape.watch(model.circuit.get_parameters())\n",
    "    amplitudes = model(inputs)\n",
    "    cost = tf.reduce_sum(amplitudes*probs)\n",
    "    print(\"cost\")\n",
    "    print(cost)\n",
    "    \n",
    "\n",
    "\n",
    "    \n",
    "g = tape.gradient(cost, model.circuit.get_parameters())"
   ]
  },
  {
   "cell_type": "code",
   "execution_count": 4,
   "metadata": {},
   "outputs": [
    {
     "name": "stdout",
     "output_type": "stream",
     "text": [
      "[(<tf.Tensor: shape=(), dtype=float32, numpy=-0.023078308>,), (<tf.Tensor: shape=(), dtype=float32, numpy=-0.0069445>,), (<tf.Tensor: shape=(), dtype=float32, numpy=-0.0046069226>,), (<tf.Tensor: shape=(), dtype=float32, numpy=0.059497207>,), (<tf.Tensor: shape=(), dtype=float32, numpy=0.012233451>,), (<tf.Tensor: shape=(), dtype=float32, numpy=-0.058154285>,), (<tf.Tensor: shape=(), dtype=float32, numpy=0.050007127>,), (<tf.Tensor: shape=(), dtype=float32, numpy=-0.05452776>,), (<tf.Tensor: shape=(), dtype=float32, numpy=-0.03984002>,), (<tf.Tensor: shape=(), dtype=float32, numpy=-0.112909555>,), (<tf.Tensor: shape=(), dtype=float32, numpy=0.030215733>,), (<tf.Tensor: shape=(), dtype=float32, numpy=0.028353613>,), (<tf.Tensor: shape=(), dtype=float32, numpy=0.052985325>,), (<tf.Tensor: shape=(), dtype=float32, numpy=-0.005341187>,), (<tf.Tensor: shape=(), dtype=float32, numpy=0.05298534>,), (<tf.Tensor: shape=(), dtype=float32, numpy=-0.007346142>,), (<tf.Tensor: shape=(), dtype=float32, numpy=0.053878564>,), (<tf.Tensor: shape=(), dtype=float32, numpy=-0.005341217>,), (<tf.Tensor: shape=(), dtype=float32, numpy=-0.010516375>,), (<tf.Tensor: shape=(), dtype=float32, numpy=0.020812439>,), (<tf.Tensor: shape=(), dtype=float32, numpy=0.015667938>,), (<tf.Tensor: shape=(), dtype=float32, numpy=-0.06603983>,), (<tf.Tensor: shape=(), dtype=float32, numpy=0.01978788>,), (<tf.Tensor: shape=(), dtype=float32, numpy=0.049486727>,), (<tf.Tensor: shape=(), dtype=float32, numpy=-0.07191865>,), (<tf.Tensor: shape=(), dtype=float32, numpy=0.010067047>,), (<tf.Tensor: shape=(), dtype=float32, numpy=0.01429759>,), (<tf.Tensor: shape=(), dtype=float32, numpy=-0.0037050098>,), (<tf.Tensor: shape=(), dtype=float32, numpy=0.014297567>,), (<tf.Tensor: shape=(), dtype=float32, numpy=-0.063077495>,), (<tf.Tensor: shape=(), dtype=float32, numpy=-2.1797517e-08>,), (<tf.Tensor: shape=(), dtype=float32, numpy=-0.0037050098>,), (<tf.Tensor: shape=(), dtype=float32, numpy=-0.032981485>,), (<tf.Tensor: shape=(), dtype=float32, numpy=-2.0084254e-09>,), (<tf.Tensor: shape=(), dtype=float32, numpy=-0.007802114>,), (<tf.Tensor: shape=(), dtype=float32, numpy=-0.02638359>,), (<tf.Tensor: shape=(), dtype=float32, numpy=-5.452992e-09>,), (<tf.Tensor: shape=(), dtype=float32, numpy=-0.009306386>,), (<tf.Tensor: shape=(), dtype=float32, numpy=-0.02535066>,), (<tf.Tensor: shape=(), dtype=float32, numpy=-9.313853e-09>,)]\n",
      "[(<tf.Tensor: shape=(), dtype=float32, numpy=-1.9633554>,), (<tf.Tensor: shape=(), dtype=float32, numpy=0.4662621>,), (<tf.Tensor: shape=(), dtype=float32, numpy=-2.3464372>,), (<tf.Tensor: shape=(), dtype=float32, numpy=-0.42506695>,), (<tf.Tensor: shape=(), dtype=float32, numpy=1.2460506>,), (<tf.Tensor: shape=(), dtype=float32, numpy=-2.078052>,), (<tf.Tensor: shape=(), dtype=float32, numpy=-0.3729918>,), (<tf.Tensor: shape=(), dtype=float32, numpy=1.2256806>,), (<tf.Tensor: shape=(), dtype=float32, numpy=0.52924514>,), (<tf.Tensor: shape=(), dtype=float32, numpy=0.30638504>,), (<tf.Tensor: shape=(), dtype=float32, numpy=2.8042262>,), (<tf.Tensor: shape=(), dtype=float32, numpy=0.87230945>,), (<tf.Tensor: shape=(), dtype=float32, numpy=-2.3580317>,), (<tf.Tensor: shape=(), dtype=float32, numpy=7.1222334>,), (<tf.Tensor: shape=(), dtype=float32, numpy=-2.6383827>,), (<tf.Tensor: shape=(), dtype=float32, numpy=-2.880356>,), (<tf.Tensor: shape=(), dtype=float32, numpy=0.2653346>,), (<tf.Tensor: shape=(), dtype=float32, numpy=-0.6637583>,), (<tf.Tensor: shape=(), dtype=float32, numpy=1.8306038>,), (<tf.Tensor: shape=(), dtype=float32, numpy=1.5701401>,), (<tf.Tensor: shape=(), dtype=float32, numpy=-2.734046>,), (<tf.Tensor: shape=(), dtype=float32, numpy=-1.2246934>,), (<tf.Tensor: shape=(), dtype=float32, numpy=2.3408382>,), (<tf.Tensor: shape=(), dtype=float32, numpy=1.0189908>,), (<tf.Tensor: shape=(), dtype=float32, numpy=2.3649485>,), (<tf.Tensor: shape=(), dtype=float32, numpy=-2.5084982>,), (<tf.Tensor: shape=(), dtype=float32, numpy=-2.4828887>,), (<tf.Tensor: shape=(), dtype=float32, numpy=5.560603>,), (<tf.Tensor: shape=(), dtype=float32, numpy=-2.625695>,), (<tf.Tensor: shape=(), dtype=float32, numpy=-0.66343856>,), (<tf.Tensor: shape=(), dtype=float32, numpy=-1.8036251>,), (<tf.Tensor: shape=(), dtype=float32, numpy=2.0011842>,), (<tf.Tensor: shape=(), dtype=float32, numpy=-1.6695576>,), (<tf.Tensor: shape=(), dtype=float32, numpy=-1.3424984>,), (<tf.Tensor: shape=(), dtype=float32, numpy=2.227535>,), (<tf.Tensor: shape=(), dtype=float32, numpy=-0.22845602>,), (<tf.Tensor: shape=(), dtype=float32, numpy=1.0243905>,), (<tf.Tensor: shape=(), dtype=float32, numpy=2.4280107>,), (<tf.Tensor: shape=(), dtype=float32, numpy=2.39376>,), (<tf.Tensor: shape=(), dtype=float32, numpy=0.6874354>,)]\n",
      "<tf.Variable 'thetas:0' shape=(40,) dtype=float32, numpy=\n",
      "array([-1.9633554 ,  0.4662621 , -2.3464372 , -0.42506695,  1.2460506 ,\n",
      "       -2.078052  , -0.3729918 ,  1.2256806 ,  0.52924514,  0.30638504,\n",
      "        2.8042262 ,  0.87230945, -2.3580317 ,  1.7805583 , -2.6383827 ,\n",
      "       -2.880356  ,  0.2653346 , -0.6637583 ,  1.8306038 ,  1.5701401 ,\n",
      "       -2.734046  , -1.2246934 ,  2.3408382 ,  1.0189908 ,  2.3649485 ,\n",
      "       -2.5084982 , -2.4828887 ,  1.3901508 , -2.625695  , -0.66343856,\n",
      "       -1.8036251 ,  2.0011842 , -1.6695576 , -1.3424984 ,  2.227535  ,\n",
      "       -0.22845602,  1.0243905 ,  2.4280107 ,  2.39376   ,  0.6874354 ],\n",
      "      dtype=float32)>\n"
     ]
    }
   ],
   "source": [
    "print(g)\n",
    "print(model.circuit.get_parameters())\n",
    "print(model.thetas)"
   ]
  },
  {
   "cell_type": "code",
   "execution_count": null,
   "metadata": {},
   "outputs": [],
   "source": [
    "circuit = qibo.Circuit(5)"
   ]
  }
 ],
 "metadata": {
  "kernelspec": {
   "display_name": "qibo",
   "language": "python",
   "name": "python3"
  },
  "language_info": {
   "codemirror_mode": {
    "name": "ipython",
    "version": 3
   },
   "file_extension": ".py",
   "mimetype": "text/x-python",
   "name": "python",
   "nbconvert_exporter": "python",
   "pygments_lexer": "ipython3",
   "version": "3.10.4"
  }
 },
 "nbformat": 4,
 "nbformat_minor": 2
}
